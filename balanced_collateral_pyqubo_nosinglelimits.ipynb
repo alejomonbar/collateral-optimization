{
 "cells": [
  {
   "cell_type": "code",
   "execution_count": 19,
   "id": "downtown-anatomy",
   "metadata": {},
   "outputs": [],
   "source": [
    "import numpy as np\n",
    "from pyqubo import Binary\n",
    "import pyqubo\n",
    "import neal\n",
    "import matplotlib.pyplot as plt \n",
    "from sympy import *\n",
    "from datetime import datetime\n",
    "import pandas as pd\n"
   ]
  },
  {
   "attachments": {},
   "cell_type": "markdown",
   "id": "b835204e",
   "metadata": {},
   "source": [
    "## Input Data "
   ]
  },
  {
   "cell_type": "code",
   "execution_count": 20,
   "id": "stunning-jenny",
   "metadata": {},
   "outputs": [],
   "source": [
    "#input data \n",
    "\n",
    "\n",
    "#Assets\n",
    "asset_quantity = pd.read_csv(\"data/sample_asset_quantity.csv\", header=None)[0].to_numpy()\n",
    "asset_value = pd.read_csv(\"data/sample_asset_value.csv\", header=None)[0].to_numpy()\n",
    "asset_tiers = pd.read_csv(\"data/sample_asset_tiers.csv\", header=None)[0].to_numpy()\n",
    "\n",
    "n_assets = len(asset_quantity)\n",
    "\n",
    "#Accounts \n",
    "account_exposure = pd.read_csv(\"data/sample_account_exposure.csv\", header=None)[0].to_numpy()\n",
    "account_duration = pd.read_csv(\"data/sample_account_duration.csv\", header=None)[0].to_numpy()\n",
    "\n",
    "n_accounts = len(account_exposure)\n",
    "\n",
    "#single limits\n",
    "# single_limits = pd.read_csv(\"data/sample_single_limits.csv\", header=None).to_numpy() \n",
    "\n",
    "#haircuts \n",
    "haircuts = pd.read_csv(\"data/sample_haircuts.csv\", header=None).to_numpy()/100\n",
    "\n",
    "#Updated Tier list \n",
    "cost_factor_matrix = np.zeros(shape=(n_assets, n_accounts))\n",
    "\n",
    "for i in range(n_assets):\n",
    "    for j in range(n_accounts):\n",
    "        cost_factor_matrix[i,j] = abs(account_duration[j] - asset_tiers[i])"
   ]
  },
  {
   "attachments": {},
   "cell_type": "markdown",
   "id": "745912c2",
   "metadata": {},
   "source": [
    "# Penalty Terms"
   ]
  },
  {
   "cell_type": "code",
   "execution_count": 41,
   "id": "8b158701",
   "metadata": {},
   "outputs": [],
   "source": [
    "\n",
    "#Penalty Terms\n",
    "lambda_cost_fn = 1e5\n",
    "lambda_consistency = 1\n",
    "lambda_exposure = 1\n",
    "# lambda_single_limits = 1\n"
   ]
  },
  {
   "attachments": {},
   "cell_type": "markdown",
   "id": "929ffbd4",
   "metadata": {},
   "source": [
    "# Defining the QUBO"
   ]
  },
  {
   "cell_type": "code",
   "execution_count": 42,
   "id": "objective-upper",
   "metadata": {},
   "outputs": [],
   "source": [
    "# Binary variables\n",
    "\n",
    "n_binary = 7\n",
    "max_binary_value = 2**(n_binary) - 1 \n",
    "\n",
    "binary_coeff_vector = np.zeros(n_binary)\n",
    "\n",
    "for i in range(n_binary):\n",
    "    binary_coeff_vector[i] = 2**i\n",
    "\n",
    "\n",
    "#Decision variable\n",
    "\n",
    "binary_variables = []\n",
    "\n",
    "for i in range(n_assets):\n",
    "    for j in range(n_accounts):\n",
    "        for k in range(n_binary):\n",
    "            globals()[\"x\" + str(i + 1) + str(j + 1) + str(k+1)] = Binary(\"x\" + str(i + 1) + str(j + 1) + str(k+1))\n",
    "            binary_variables.append(globals()[\"x\" + str(i + 1) + str(j + 1) + str(k + 1)])\n",
    "\n",
    "\n",
    "#Slack variable for consistency \n",
    "num_slack_consistency_arr = np.zeros(shape=(n_assets))\n",
    "\n",
    "for i in range(n_assets):\n",
    "    num_slack_consistency_arr[i] = int(np.ceil(np.log2(max_binary_value)))\n",
    "\n",
    "\n",
    "consistency_slack_variables_arr = [] \n",
    "\n",
    "for count, i in enumerate(num_slack_consistency_arr): \n",
    "    consistency_slack_variables_arr.append(pyqubo.Array.create(\"consistency_asset\" + str(count + 1) + \"_slack\", shape = int(i), vartype = \"BINARY\"))\n",
    "\n",
    "    \n",
    "# slack variables for single limit\n",
    "\n",
    "#num_slack_single_limit_arr = np.zeros(shape=(n_assets, n_accounts))\n",
    "\n",
    "# for i in range(n_assets):\n",
    "#     for j in range(n_accounts):\n",
    "#         #print((single_limits[i][j]/asset_quantity[i])*max_binary_value)\n",
    "#         try:\n",
    "#             num_slack_single_limit_arr[i][j] = int(np.ceil(np.log2((single_limits[i][j]/asset_quantity[i])*max_binary_value)))\n",
    "#         except OverflowError:\n",
    "#             print(\"pass\")\n",
    "\n",
    "# single_limit_slack_variables_arr = []  #going to be a triple nested array   \n",
    "\n",
    "# for asset_counter, i in enumerate(num_slack_single_limit_arr):\n",
    "#     aux_single_limit_slack_arr = []\n",
    "#     for account_counter, j in enumerate(i):\n",
    "#         if j == 0:\n",
    "#             aux_single_limit_slack_arr.append([])\n",
    "#         else:\n",
    "#             aux_single_limit_slack_arr.append(pyqubo.Array.create(\"single_lim_asset\" + str(asset_counter + 1) + \"_account\" + str(account_counter + 1) + \"_slack\", shape = int(j), vartype = \"BINARY\"))\n",
    "#     single_limit_slack_variables_arr.append(aux_single_limit_slack_arr)\n"
   ]
  },
  {
   "attachments": {},
   "cell_type": "markdown",
   "id": "dba1036e",
   "metadata": {},
   "source": [
    "# Constructing the QUBO equation \n",
    "\n",
    "This involves the QUBO objective function, the consistency contraints, the exposure constraints."
   ]
  },
  {
   "cell_type": "code",
   "execution_count": 43,
   "id": "unusual-paraguay",
   "metadata": {},
   "outputs": [],
   "source": [
    "\n",
    "#QUBO objective function \n",
    "\n",
    "cost_fn = 0\n",
    "\n",
    "for i in range(n_assets):\n",
    "    for j in range(n_accounts):\n",
    "        aux_term1 = 0\n",
    "        for k in range(n_binary):\n",
    "            aux_term1 += binary_coeff_vector[k]* globals()[\"x\" + str(i + 1) + str(j + 1) + str(k+1)]\n",
    "        cost_fn += aux_term1*cost_factor_matrix[i][j]\n",
    "\n",
    "cost_fn /= max_binary_value\n"
   ]
  },
  {
   "cell_type": "code",
   "execution_count": 44,
   "id": "consolidated-festival",
   "metadata": {},
   "outputs": [],
   "source": [
    "# Consistency constraint \n",
    "\n",
    "consistency_penalty_term = 0\n",
    "\n",
    "#slack part\n",
    "consistency_penalty_slack = []\n",
    "\n",
    "for i in consistency_slack_variables_arr:\n",
    "    aux_term = 0\n",
    "    for exponent,j in enumerate(i):\n",
    "        aux_term += (2**exponent)*j\n",
    "    consistency_penalty_slack.append(aux_term)\n",
    "\n",
    "\n",
    "#decision variable part\n",
    "for i in range(n_assets):\n",
    "    aux_term2 = 0\n",
    "    for j in range(n_accounts):\n",
    "        aux_term1 = 0\n",
    "        for k in range(n_binary):\n",
    "            aux_term1 += binary_coeff_vector[k]* globals()[\"x\" + str(i + 1) + str(j + 1) + str(k+1)]\n",
    "        aux_term2 += (aux_term1)\n",
    "    consistency_penalty_term += (aux_term2 - max_binary_value + consistency_penalty_slack[i])**2"
   ]
  },
  {
   "cell_type": "code",
   "execution_count": 45,
   "id": "minus-castle",
   "metadata": {},
   "outputs": [],
   "source": [
    "#Exposure constraint\n",
    "\n",
    "exposure_penalty_term = 0\n",
    "\n",
    "for j in range(n_accounts):\n",
    "    aux_term2 = 0\n",
    "    for i in range(n_assets):\n",
    "        aux_term1 = 0\n",
    "        for k in range(n_binary):\n",
    "            aux_term1 += binary_coeff_vector[k]* globals()[\"x\" + str(i + 1) + str(j + 1) + str(k+1)]\n",
    "        aux_term2 += (aux_term1*asset_quantity[i]*asset_value[i]*haircuts[i][j])/max_binary_value\n",
    "    exposure_penalty_term += (aux_term2 - account_exposure[j]) **2 \n",
    "\n",
    "exposure_penalty_term /= np.mean(asset_quantity*asset_value)"
   ]
  },
  {
   "cell_type": "code",
   "execution_count": 46,
   "id": "a370266c",
   "metadata": {},
   "outputs": [],
   "source": [
    "# Single limit constraint\n",
    "\n",
    "# single_limit_penalty_term = 0\n",
    "\n",
    "# #slack part\n",
    "\n",
    "# single_limit_penalty_slack = [] \n",
    "\n",
    "# for i in range(n_assets):\n",
    "#     aux_array = []\n",
    "#     for j in range(n_accounts):\n",
    "#         aux_term = 0\n",
    "#         if single_limit_slack_variables_arr[i][j] == []:\n",
    "#             aux_term += 0\n",
    "#         else:    \n",
    "#             for exponent,k in enumerate(single_limit_slack_variables_arr[i][j]):\n",
    "#                 aux_term += (2**exponent)*k  \n",
    "#         aux_array.append(aux_term)\n",
    "#     single_limit_penalty_slack.append(aux_array)\n",
    "\n",
    "# #decision variable part\n",
    "\n",
    "# for i in range(n_assets):\n",
    "#     for j in range(n_accounts):\n",
    "#         aux_term2 = 0\n",
    "#         aux_term1 = 0\n",
    "#         for k in range(n_binary):\n",
    "#             aux_term1 += binary_coeff_vector[k]* globals()[\"x\" + str(i + 1) + str(j + 1) + str(k+1)]\n",
    "#         aux_term2 += aux_term1 - (single_limits[i][j]/asset_quantity[i])*max_binary_value + single_limit_penalty_slack[i][j]\n",
    "#         #print(aux_term2**2)\n",
    "#         single_limit_penalty_term += aux_term2**2\n",
    "\n",
    "\n"
   ]
  },
  {
   "cell_type": "code",
   "execution_count": 47,
   "id": "swedish-kitchen",
   "metadata": {},
   "outputs": [],
   "source": [
    "\n",
    "\n",
    "#Final QUBO\n",
    "QUBO_equation =lambda_cost_fn*cost_fn + lambda_consistency*consistency_penalty_term  + lambda_exposure*exposure_penalty_term #+ lambda_single_limits*single_limit_penalty_term\n",
    "\n",
    "#compile model\n",
    "model = QUBO_equation.compile()\n",
    "qubo, offset = model.to_qubo()\n"
   ]
  },
  {
   "attachments": {},
   "cell_type": "markdown",
   "id": "e0520251",
   "metadata": {},
   "source": [
    "# Run Solver"
   ]
  },
  {
   "cell_type": "code",
   "execution_count": 48,
   "id": "electric-panic",
   "metadata": {},
   "outputs": [
    {
     "name": "stdout",
     "output_type": "stream",
     "text": [
      "The minimum energy is: 50180.52714473568\n"
     ]
    }
   ],
   "source": [
    "#Run Solver\n",
    "\n",
    "bqm = model.to_bqm()\n",
    "sa = neal.SimulatedAnnealingSampler()\n",
    "num_reads = 100\n",
    "num_sweeps = 1000\n",
    "sampleset = sa.sample(bqm, num_reads=num_reads, num_sweeps=num_sweeps)\n",
    "\n",
    "#Get best sample\n",
    "decoded_samples = model.decode_sampleset(sampleset)\n",
    "best_sample = min(decoded_samples, key=lambda x: x.energy)\n",
    "results = best_sample.sample\n",
    "pprint(f\"The minimum energy is: {best_sample.energy}\")\n"
   ]
  },
  {
   "attachments": {},
   "cell_type": "markdown",
   "id": "710dafdd",
   "metadata": {},
   "source": [
    "# Verify Results"
   ]
  },
  {
   "cell_type": "code",
   "execution_count": 49,
   "id": "geological-horror",
   "metadata": {},
   "outputs": [
    {
     "name": "stdout",
     "output_type": "stream",
     "text": [
      "=====Each Individual Allocation Percentage=====\n",
      "Assign 0.00% of asset 1 to account 1\n",
      "Assign 0.00% of asset 1 to account 2\n",
      "Assign 0.00% of asset 1 to account 3\n",
      "Assign 0.00% of asset 1 to account 4\n",
      "Assign 0.00% of asset 1 to account 5\n",
      "Assign 11.81% of asset 2 to account 1\n",
      "Assign 24.41% of asset 2 to account 2\n",
      "Assign 0.00% of asset 2 to account 3\n",
      "Assign 0.00% of asset 2 to account 4\n",
      "Assign 0.00% of asset 2 to account 5\n",
      "Assign 0.00% of asset 3 to account 1\n",
      "Assign 0.00% of asset 3 to account 2\n",
      "Assign 0.00% of asset 3 to account 3\n",
      "Assign 0.00% of asset 3 to account 4\n",
      "Assign 0.00% of asset 3 to account 5\n",
      "Assign 0.00% of asset 4 to account 1\n",
      "Assign 0.00% of asset 4 to account 2\n",
      "Assign 0.00% of asset 4 to account 3\n",
      "Assign 0.00% of asset 4 to account 4\n",
      "Assign 0.00% of asset 4 to account 5\n",
      "Assign 2.36% of asset 5 to account 1\n",
      "Assign 8.66% of asset 5 to account 2\n",
      "Assign 2.36% of asset 5 to account 3\n",
      "Assign 1.57% of asset 5 to account 4\n",
      "Assign 2.36% of asset 5 to account 5\n",
      "Assign 24.41% of asset 6 to account 1\n",
      "Assign 5.51% of asset 6 to account 2\n",
      "Assign 14.96% of asset 6 to account 3\n",
      "Assign 0.79% of asset 6 to account 4\n",
      "Assign 11.81% of asset 6 to account 5\n",
      "Assign 0.00% of asset 7 to account 1\n",
      "Assign 0.00% of asset 7 to account 2\n",
      "Assign 0.00% of asset 7 to account 3\n",
      "Assign 0.00% of asset 7 to account 4\n",
      "Assign 0.00% of asset 7 to account 5\n",
      "Assign 0.00% of asset 8 to account 1\n",
      "Assign 0.00% of asset 8 to account 2\n",
      "Assign 11.81% of asset 8 to account 3\n",
      "Assign 0.79% of asset 8 to account 4\n",
      "Assign 11.81% of asset 8 to account 5\n",
      "Assign 0.00% of asset 9 to account 1\n",
      "Assign 0.00% of asset 9 to account 2\n",
      "Assign 0.00% of asset 9 to account 3\n",
      "Assign 0.00% of asset 9 to account 4\n",
      "Assign 0.00% of asset 9 to account 5\n",
      "Assign 0.00% of asset 10 to account 1\n",
      "Assign 0.00% of asset 10 to account 2\n",
      "Assign 0.00% of asset 10 to account 3\n",
      "Assign 0.00% of asset 10 to account 4\n",
      "Assign 0.00% of asset 10 to account 5\n"
     ]
    }
   ],
   "source": [
    "\n",
    "exposure_solution = np.zeros(shape = (n_accounts))\n",
    "allocation_solution = np.zeros(shape = (n_assets))\n",
    "\n",
    "print(\"=====Each Individual Allocation Percentage=====\")\n",
    "\n",
    "for i in range(n_assets):\n",
    "    asset = 0\n",
    "    for j in range(n_accounts):\n",
    "        decimal = 0\n",
    "        for k in range(n_binary):\n",
    "            decimal +=binary_coeff_vector[k]*results.get(\"x\" + str(i + 1) + str(j + 1) + str(k+1))\n",
    "        asset += decimal*(100/max_binary_value)\n",
    "        print(f\"Assign {decimal*(100/max_binary_value):0.2f}% of asset {i+1} to account {j+1}\")\n",
    "        exposure_solution[j] += (decimal /max_binary_value) * asset_value[i] * asset_quantity[i]*haircuts[i][j]\n",
    "    allocation_solution[i] = asset\n"
   ]
  },
  {
   "cell_type": "code",
   "execution_count": 50,
   "id": "frank-cassette",
   "metadata": {},
   "outputs": [
    {
     "name": "stdout",
     "output_type": "stream",
     "text": [
      "====Validation for Consistency====\n",
      "0.00% of asset 1 posted\n",
      "36.22% of asset 2 posted\n",
      "0.00% of asset 3 posted\n",
      "0.00% of asset 4 posted\n",
      "17.32% of asset 5 posted\n",
      "57.48% of asset 6 posted\n",
      "0.00% of asset 7 posted\n",
      "24.41% of asset 8 posted\n",
      "0.00% of asset 9 posted\n",
      "0.00% of asset 10 posted\n"
     ]
    }
   ],
   "source": [
    "print(\"====Validation for Consistency====\")\n",
    "for i in range(n_assets):\n",
    "    print(f\"{allocation_solution[i]:0.2f}% of asset {i+1} posted\")  "
   ]
  },
  {
   "cell_type": "code",
   "execution_count": 51,
   "id": "clean-harbor",
   "metadata": {},
   "outputs": [
    {
     "name": "stdout",
     "output_type": "stream",
     "text": [
      "=====Validation for Exposure======\n",
      "$819,129.8067239374 of collateral posted, $824,000.0 required\n",
      "-0.59%\n",
      "$657,290.178172119 of collateral posted, $669,292.0 required\n",
      "-1.79%\n",
      "$542,073.7930437214 of collateral posted, $548,600.0 required\n",
      "-1.19%\n",
      "$60,494.17437111193 of collateral posted, $64,844.52 required\n",
      "-6.71%\n",
      "$455,883.28018683975 of collateral posted, $472,000.0 required\n",
      "-3.41%\n"
     ]
    }
   ],
   "source": [
    "print(\"=====Validation for Exposure======\")\n",
    "for i in range(n_accounts):\n",
    "    print(f\"${exposure_solution[i]:,} of collateral posted, ${account_exposure[i]:,} required\") \n",
    "    print(f\"{(exposure_solution[i]/account_exposure[i] - 1) *100.:0.2f}%\")"
   ]
  },
  {
   "cell_type": "code",
   "execution_count": 52,
   "id": "fe8b2e26",
   "metadata": {},
   "outputs": [],
   "source": [
    "#print(\"===Validation of Single limits =====\")\n",
    "# for i in range(n_assets):\n",
    "#     for j in range(n_accounts):\n",
    "#         decimal = 0\n",
    "#         for k in range(n_binary):\n",
    "#             decimal +=(2**k)*my_bit_array[i][j][k]\n",
    "#         allocation = (decimal/max_binary_value)*asset_quantity[i] \n",
    "#         print(f\"Amount allocated: {allocation:0.2f}. Single Limit: {single_limits[i][j]:0.2f}\")\n",
    "#         print(f\"Constraint Satisfied?: {allocation <= single_limits[i][j]}\")\n",
    "        "
   ]
  },
  {
   "attachments": {},
   "cell_type": "markdown",
   "id": "de9df13c",
   "metadata": {},
   "source": [
    "# Export to csv"
   ]
  },
  {
   "cell_type": "code",
   "execution_count": 53,
   "id": "narrative-empty",
   "metadata": {},
   "outputs": [
    {
     "name": "stdout",
     "output_type": "stream",
     "text": [
      "Objective value: 0.49527559055118114\n"
     ]
    }
   ],
   "source": [
    "#Saving to an array\n",
    "Q_value_balanced_py_qubo = np.zeros(shape=(n_assets,n_accounts))\n",
    "\n",
    "for i in range(n_assets):\n",
    "    for j in range(n_accounts):\n",
    "        decimal = 0\n",
    "        for k in range(n_binary):\n",
    "            decimal +=binary_coeff_vector[k]*results.get(\"x\" + str(i + 1) + str(j + 1) + str(k+1))\n",
    "        Q_value_balanced_py_qubo[i][j] = decimal/max_binary_value\n",
    "\n",
    "pprint(f\"Objective value: {sum(sum(Q_value_balanced_py_qubo*cost_factor_matrix))}\")"
   ]
  },
  {
   "cell_type": "code",
   "execution_count": null,
   "id": "fdc1ec52",
   "metadata": {},
   "outputs": [],
   "source": [
    "#Uncomment line below to save file to csv\n",
    "\n",
    "#pd.DataFrame(Q_value_balanced_py_qubo).to_csv(\"Q_value_balanced_py_qubo_no_single_lim1.csv\", header=None, index=None)\n"
   ]
  }
 ],
 "metadata": {
  "kernelspec": {
   "display_name": "Python 3",
   "language": "python",
   "name": "python3"
  },
  "language_info": {
   "codemirror_mode": {
    "name": "ipython",
    "version": 3
   },
   "file_extension": ".py",
   "mimetype": "text/x-python",
   "name": "python",
   "nbconvert_exporter": "python",
   "pygments_lexer": "ipython3",
   "version": "3.11.2"
  },
  "vscode": {
   "interpreter": {
    "hash": "970cdd760a6554ff9d7b1b410a24af8e9d54e51044eda066095b1481daf8ae7f"
   }
  }
 },
 "nbformat": 4,
 "nbformat_minor": 5
}
