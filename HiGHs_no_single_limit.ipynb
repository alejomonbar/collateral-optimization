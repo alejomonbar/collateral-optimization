{
 "cells": [
  {
   "cell_type": "code",
   "execution_count": null,
   "id": "hired-windsor",
   "metadata": {},
   "outputs": [],
   "source": [
    "using JuMP,HiGHS,LaTeXStrings, GLPK, StatsPlots, Plots, DelimitedFiles"
   ]
  },
  {
   "attachments": {},
   "cell_type": "markdown",
   "id": "c333e7d8",
   "metadata": {},
   "source": [
    "# Input Data"
   ]
  },
  {
   "cell_type": "code",
   "execution_count": null,
   "id": "understanding-founder",
   "metadata": {},
   "outputs": [],
   "source": [
    "#Input data\n",
    "\n",
    "asset_quantity = readdlm(\"data/sample_asset_quantity.csv\", ',', Float64)\n",
    "asset_tiers = readdlm(\"data/sample_asset_tiers.csv\", ',', Float64)\n",
    "asset_value = readdlm(\"data/sample_asset_value.csv\", ',', Float64)\n",
    "\n",
    "account_exposure = readdlm(\"data/sample_account_exposure.csv\", ',', Float64)\n",
    "account_durations = readdlm(\"data/sample_account_duration.csv\", ',', Float64)\n",
    "\n",
    "\n",
    "#haircuts_with_ineligibility = readdlm(\"sample_data/\", ',', Float64)/100\n",
    "haircuts = readdlm(\"data/sample_haircuts.csv\", ',', Float64)/100\n",
    "\n",
    "\n",
    "#single_limits = readdlm(\"data/sample_single_limits.csv\", ',', Float64)"
   ]
  },
  {
   "cell_type": "code",
   "execution_count": null,
   "id": "theoretical-finnish",
   "metadata": {},
   "outputs": [],
   "source": [
    "# Auxillary variables\n",
    "\n",
    "tier_set = [0.2, 0.5, 0.8]\n",
    "\n",
    "n_assets = length(asset_tiers)\n",
    "\n",
    "n_accounts = length(account_durations)\n",
    "\n",
    "\n",
    "\n",
    "cost_factor_matrix = Array{Float64}(undef, length(asset_tiers), length(account_durations))\n",
    "\n",
    "for i in 1:n_assets\n",
    "    for j in 1:n_accounts\n",
    "        cost_factor_matrix[i,j] = abs(asset_tiers[i] - account_durations[j])\n",
    "    end\n",
    "end\n",
    "\n",
    "cost_factor_matrix = round.(cost_factor_matrix, digits = 2);\n",
    "\n",
    "print(cost_factor_matrix)\n",
    "\n",
    "\n"
   ]
  },
  {
   "cell_type": "markdown",
   "id": "9afbccc3",
   "metadata": {},
   "source": [
    "# Constructing JuMP model"
   ]
  },
  {
   "cell_type": "code",
   "execution_count": null,
   "id": "revolutionary-begin",
   "metadata": {},
   "outputs": [],
   "source": [
    "\n",
    "model = Model()\n",
    "\n",
    "#Q \n",
    "@variable(model, Q[i = 1:n_assets, j = 1:n_accounts], lower_bound = 0, upper_bound = 1)\n",
    "\n",
    "\n",
    "#Consistency constraint\n",
    "@constraint(model,[i = 1:n_assets],sum(Q[i,j] for j in 1:n_accounts) <= 1)\n",
    "\n",
    "#Requirement constraint\n",
    "@constraint(model, [j = 1:n_accounts],\n",
    "    sum(Q[i,j]*asset_quantity[i]*asset_value[i]*haircuts[i,j] for i in 1:n_assets )\n",
    "    >= account_exposure[j])\n",
    "\n",
    "\n",
    "#Single Limits\n",
    "# @constraint(model, [i = 1:n_assets, j =1:n_accounts], \n",
    "#     Q[i,j]*asset_quantity[i] <= single_limits[i,j])\n",
    "\n",
    "#Objective_function\n",
    "@objective(model, Min, sum(Q[i,j]*cost_factor_matrix[i,j] for i in 1:n_assets,j in 1:n_accounts));\n",
    "print(model)"
   ]
  },
  {
   "attachments": {},
   "cell_type": "markdown",
   "id": "outdoor-cream",
   "metadata": {},
   "source": [
    "# Solving with HiGHs\n"
   ]
  },
  {
   "cell_type": "code",
   "execution_count": null,
   "id": "first-monitor",
   "metadata": {},
   "outputs": [],
   "source": [
    "set_optimizer(model, HiGHS.Optimizer)\n",
    "set_optimizer_attribute(model, \"solver\", \"simplex\")\n",
    "optimize!(model)"
   ]
  },
  {
   "cell_type": "code",
   "execution_count": null,
   "id": "round-skiing",
   "metadata": {},
   "outputs": [],
   "source": [
    "\n",
    "println(\"Objective value is $(objective_value(model))\")\n"
   ]
  },
  {
   "attachments": {},
   "cell_type": "markdown",
   "id": "357edda8",
   "metadata": {},
   "source": [
    "# Export to .csv"
   ]
  },
  {
   "cell_type": "code",
   "execution_count": null,
   "id": "9a6b32ae",
   "metadata": {},
   "outputs": [],
   "source": [
    "Q_values_HiGHS_simplex = zeros((n_assets, n_accounts))\n",
    "\n",
    "\n",
    "for i in 1:n_assets\n",
    "    for j in 1:n_accounts\n",
    "        Q_values_HiGHS_simplex[i,j] = value(Q[i,j])\n",
    "        if value(Q[i,j]) != 0 \n",
    "            println(\"Q_{$(i), $(j)} = $(value(Q[i,j]))\")\n",
    "        end\n",
    "    end\n",
    "end\n",
    "\n",
    "println(Q_values_HiGHS_simplex)\n",
    "#store all Values to an array\n",
    "\n",
    "\n",
    "# Uncomment line below to save to csv files\n",
    "\n",
    "#writedlm(\"Q_values_HiGHS_simplex.csv\", Q_values_HiGHS_simplex, ',')"
   ]
  }
 ],
 "metadata": {
  "kernelspec": {
   "display_name": "Julia 1.8.1",
   "language": "julia",
   "name": "julia-1.8"
  },
  "language_info": {
   "file_extension": ".jl",
   "mimetype": "application/julia",
   "name": "julia",
   "version": "1.8.1"
  }
 },
 "nbformat": 4,
 "nbformat_minor": 5
}
