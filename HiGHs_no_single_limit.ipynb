{
 "cells": [
  {
   "cell_type": "code",
   "execution_count": 1,
   "id": "hired-windsor",
   "metadata": {},
   "outputs": [],
   "source": [
    "using JuMP,HiGHS,LaTeXStrings, GLPK, StatsPlots, Plots, DelimitedFiles"
   ]
  },
  {
   "attachments": {},
   "cell_type": "markdown",
   "id": "c333e7d8",
   "metadata": {},
   "source": [
    "# Input Data"
   ]
  },
  {
   "cell_type": "code",
   "execution_count": 2,
   "id": "understanding-founder",
   "metadata": {},
   "outputs": [
    {
     "data": {
      "text/plain": [
       "10×5 Matrix{Float64}:\n",
       " 0.9   0.909091  0.909091  0.943396  0.9\n",
       " 1.0   1.0       0.909091  0.900901  1.0\n",
       " 1.0   1.0       1.0       1.0       1.0\n",
       " 1.0   0.909091  0.909091  0.900901  1.0\n",
       " 0.9   0.934579  0.909091  0.943396  0.9\n",
       " 0.9   0.909091  0.909091  0.943396  0.9\n",
       " 0.95  1.0       0.980392  1.0       0.95\n",
       " 0.95  1.0       0.980392  1.0       0.95\n",
       " 0.95  1.0       1.0       1.0       0.95\n",
       " 0.95  0.952381  0.980392  0.952381  0.95"
      ]
     },
     "metadata": {},
     "output_type": "display_data"
    }
   ],
   "source": [
    "#Input data\n",
    "\n",
    "asset_quantity = readdlm(\"data/sample_asset_quantity.csv\", ',', Float64)\n",
    "asset_tiers = readdlm(\"data/sample_asset_tiers.csv\", ',', Float64)\n",
    "asset_value = readdlm(\"data/sample_asset_value.csv\", ',', Float64)\n",
    "\n",
    "account_exposure = readdlm(\"data/sample_account_exposure.csv\", ',', Float64)\n",
    "account_durations = readdlm(\"data/sample_account_duration.csv\", ',', Float64)\n",
    "\n",
    "\n",
    "haircuts = readdlm(\"data/sample_haircuts.csv\", ',', Float64)/100\n",
    "\n"
   ]
  },
  {
   "cell_type": "code",
   "execution_count": 3,
   "id": "theoretical-finnish",
   "metadata": {},
   "outputs": [
    {
     "name": "stdout",
     "output_type": "stream",
     "text": [
      "["
     ]
    },
    {
     "name": "stdout",
     "output_type": "stream",
     "text": [
      "0.2 0.2 0.8 0.8 0.8; 0.2 0.2 0.8 0.8 0.8; 0.2 0.2 0.8 0.8 0.8; 0.2 0.2 0.8 0.8 0.8; 0.5 0.5 0.5 0.5 0.5; 0.5 0.5 0.5 0.5 0.5; 0.8 0.8 0.2 0.2 0.2; 0.8 0.8 0.2 0.2 0.2; 0.8 0.8 0.2 0.2 0.2; 0.8 0.8 0.2 0.2 0.2"
     ]
    },
    {
     "name": "stdout",
     "output_type": "stream",
     "text": [
      "]"
     ]
    }
   ],
   "source": [
    "# Auxillary variables\n",
    "\n",
    "tier_set = [0.2, 0.5, 0.8]\n",
    "\n",
    "n_assets = length(asset_tiers)\n",
    "\n",
    "n_accounts = length(account_durations)\n",
    "\n",
    "\n",
    "\n",
    "cost_factor_matrix = Array{Float64}(undef, length(asset_tiers), length(account_durations))\n",
    "\n",
    "for i in 1:n_assets\n",
    "    for j in 1:n_accounts\n",
    "        cost_factor_matrix[i,j] = abs(asset_tiers[i] - account_durations[j])\n",
    "    end\n",
    "end\n",
    "\n",
    "cost_factor_matrix = round.(cost_factor_matrix, digits = 2);\n",
    "\n",
    "print(cost_factor_matrix)\n",
    "\n",
    "\n"
   ]
  },
  {
   "cell_type": "markdown",
   "id": "9afbccc3",
   "metadata": {},
   "source": [
    "# Constructing JuMP model"
   ]
  },
  {
   "cell_type": "code",
   "execution_count": 4,
   "id": "revolutionary-begin",
   "metadata": {},
   "outputs": [
    {
     "name": "stdout",
     "output_type": "stream",
     "text": [
      "Min 0.2 Q[1,1] + 0.2 Q[1,2] + 0.8 Q[1,3] + 0.8 Q[1,4] + 0.8 Q[1,5] + 0.2 Q[2,1] + 0.2 Q[2,2] + 0.8 Q[2,3] + 0.8 Q[2,4] + 0.8 Q[2,5] + 0.2 Q[3,1] + 0.2 Q[3,2] + 0.8 Q[3,3] + 0.8 Q[3,4] + 0.8 Q[3,5] + 0.2 Q[4,1] + 0.2 Q[4,2] + 0.8 Q[4,3] + 0.8 Q[4,4] + 0.8 Q[4,5] + 0.5 Q[5,1] + 0.5 Q[5,2] + 0.5 Q[5,3] + 0.5 Q[5,4] + 0.5 Q[5,5] + 0.5 Q[6,1] + 0.5 Q[6,2] + 0.5 Q[6,3] + 0.5 Q[6,4] + 0.5 Q[6,5] + 0.8 Q[7,1] + 0.8 Q[7,2] + 0.2 Q[7,3] + 0.2 Q[7,4] + 0.2 Q[7,5] + 0.8 Q[8,1] + 0.8 Q[8,2] + 0.2 Q[8,3] + 0.2 Q[8,4] + 0.2 Q[8,5] + 0.8 Q[9,1] + 0.8 Q[9,2] + 0.2 Q[9,3] + 0.2 Q[9,4] + 0.2 Q[9,5] + 0.8 Q[10,1] + 0.8 Q[10,2] + 0.2 Q[10,3] + 0.2 Q[10,4] + 0.2 Q[10,5]\n",
      "Subject to\n"
     ]
    },
    {
     "name": "stdout",
     "output_type": "stream",
     "text": [
      " 337580.7187721691 Q[1,1] + 1.416835560987015e6 Q[2,1] + 242181.403673832 Q[3,1] + 530751.1039390559 Q[4,1] + 1.9252052101651952e6 Q[5,1] + 2.48391407769804e6 Q[6,1] + 98653.12350377608 Q[7,1] + 990856.6525174977 Q[8,1] + 146168.41998874999 Q[9,1] + 90366.7778 Q[10,1] >= 824000.0\n",
      " 340990.62502580293 Q[1,2] + 1.416835560987015e6 Q[2,2] + 242181.403673832 Q[3,2] + 482501.0035857849 Q[4,2] + 1.9991746731706962e6 Q[5,2] + 2.509004118911999e6 Q[6,2] + 103845.39316186956 Q[7,2] + 1.0430070026499976e6 Q[8,2] + 153861.494725 Q[9,2] + 90593.26095419283 Q[10,2] >= 669292.0\n",
      " 340990.62502580293 Q[1,3] + 1.288032328182894e6 Q[2,3] + 242181.403673832 Q[3,3] + 482501.0035857849 Q[4,3] + 1.9446517274590374e6 Q[5,3] + 2.509004118911999e6 Q[6,3] + 101809.20898609381 Q[7,3] + 1.0225558849898352e6 Q[8,3] + 153861.494725 Q[9,3] + 93257.76863099477 Q[10,3] >= 548600.0\n",
      " 353858.19577229326 Q[1,4] + 1.2764284333203589e6 Q[2,4] + 242181.403673832 Q[3,4] + 478154.14769236505 Q[4,4] + 2.0180348114616266e6 Q[5,4] + 2.603683519557963e6 Q[6,4] + 103845.39316186956 Q[7,4] + 1.0430070026499976e6 Q[8,4] + 153861.494725 Q[9,4] + 90593.26095419283 Q[10,4] >= 64844.52\n",
      " 337580.7187721691 Q[1,5] + 1.416835560987015e6 Q[2,5] + 242181.403673832 Q[3,5] + 530751.1039390559 Q[4,5] + 1.9252052101651952e6 Q[5,5] + 2.48391407769804e6 Q[6,5] + 98653.12350377608 Q[7,5] + 990856.6525174977 Q[8,5] + 146168.41998874999 Q[9,5] + 90366.7778 Q[10,5] >= 472000.0\n",
      " Q[1,1] + Q[1,2] + Q[1,3] + Q[1,4] + Q[1,5] <= 1.0\n",
      " Q[2,1] + Q[2,2] + Q[2,3] + Q[2,4] + Q[2,5] <= 1.0\n",
      " Q[3,1] + Q[3,2] + Q[3,3] + Q[3,4] + Q[3,5] <= 1.0\n",
      " Q[4,1] + Q[4,2] + Q[4,3] + Q[4,4] + Q[4,5] <= 1.0\n",
      " Q[5,1] + Q[5,2] + Q[5,3] + Q[5,4] + Q[5,5] <= 1.0\n",
      " Q[6,1] + Q[6,2] + Q[6,3] + Q[6,4] + Q[6,5] <= 1.0\n",
      " Q[7,1] + Q[7,2] + Q[7,3] + Q[7,4] + Q[7,5] <= 1.0\n",
      " Q[8,1] + Q[8,2] + Q[8,3] + Q[8,4] + Q[8,5] <= 1.0\n",
      " Q[9,1] + Q[9,2] + Q[9,3] + Q[9,4] + Q[9,5] <= 1.0\n",
      " Q[10,1] + Q[10,2] + Q[10,3] + Q[10,4] + Q[10,5] <= 1.0\n",
      " Q[1,1] >= 0.0\n",
      " Q[2,1] >= 0.0\n",
      " Q[3,1] >= 0.0\n",
      " Q[4,1] >= 0.0\n",
      " Q[5,1] >= 0.0\n",
      " Q[6,1] >= 0.0\n",
      " Q[7,1] >= 0.0\n",
      " Q[8,1] >= 0.0\n",
      " Q[9,1] >= 0.0\n",
      " Q[10,1] >= 0.0\n",
      " Q[1,2] >= 0.0\n",
      " Q[2,2] >= 0.0\n",
      " Q[3,2] >= 0.0\n",
      " Q[4,2] >= 0.0\n",
      " Q[5,2] >= 0.0\n",
      " Q[6,2] >= 0.0"
     ]
    },
    {
     "name": "stdout",
     "output_type": "stream",
     "text": [
      "\n",
      " Q[7,2] >= 0.0\n",
      " Q[8,2] >= 0.0\n",
      " Q[9,2] >= 0.0\n",
      " Q[10,2] >= 0.0\n",
      " Q[1,3] >= 0.0\n",
      " Q[2,3] >= 0.0\n",
      " Q[3,3] >= 0.0\n",
      " Q[4,3] >= 0.0\n",
      " Q[5,3] >= 0.0\n",
      " Q[6,3] >= 0.0\n"
     ]
    },
    {
     "name": "stdout",
     "output_type": "stream",
     "text": [
      " Q[7,3] >= 0.0\n",
      " Q[8,3] >= 0.0\n",
      " Q[9,3] >= 0.0\n",
      " Q[10,3] >= 0.0\n",
      " Q[1,4] >= 0.0\n",
      " Q[2,4] >= 0.0\n",
      " Q[3,4] >= 0.0\n",
      " Q[4,4] >= 0.0\n",
      " Q[5,4] >= 0.0\n",
      " Q[6,4] >= 0.0\n",
      " Q[7,4] >= 0.0\n",
      " Q[8,4] >= 0.0\n",
      " Q[9,4] >= 0.0\n",
      " Q[10,4] >= 0.0\n",
      " Q[1,5] >= 0.0\n",
      " Q[2,5] >= 0.0\n",
      " Q[3,5] >= 0.0\n",
      " Q[4,5] >= 0.0\n",
      " Q[5,5] >= 0.0\n",
      " Q[6,5] >= 0.0\n",
      " Q[7,5] >= 0.0\n",
      " Q[8,5] >= 0.0\n",
      " Q[9,5] >= 0.0\n",
      " Q[10,5] >= 0.0\n",
      " Q[1,1] <= 1.0\n",
      " Q[2,1] <= 1.0\n",
      " Q[3,1] <= 1.0\n",
      " Q[4,1] <= 1.0\n",
      " Q[5,1] <= 1.0\n",
      " Q[6,1] <= 1.0\n",
      " Q[7,1] <= 1.0\n",
      " Q[8,1] <= 1.0\n",
      " Q[9,1] <= 1.0\n",
      " Q[10,1] <= 1.0\n",
      " Q[1,2] <= 1.0\n",
      " Q[2,2] <= 1.0\n",
      " Q[3,2] <= 1.0\n",
      " Q[4,2] <= 1.0\n",
      " Q[5,2] <= 1.0\n",
      " Q[6,2] <= 1.0\n",
      " Q[7,2] <= 1.0\n",
      " Q[8,2] <= 1.0\n",
      " Q[9,2] <= 1.0\n",
      " Q[10,2] <= 1.0\n",
      " Q[1,3] <= 1.0\n",
      " Q[2,3] <= 1.0\n",
      " Q[3,3] <= 1.0\n",
      " Q[4,3] <= 1.0\n",
      " Q[5,3] <= 1.0\n",
      " Q[6,3] <= 1.0\n",
      " Q[7,3] <= 1.0\n",
      " Q[8,3] <= 1.0\n",
      " Q[9,3] <= 1.0\n",
      " Q[10,3] <= 1.0\n",
      " Q[1,4] <= 1.0\n",
      " Q[2,4] <= 1.0\n",
      " Q[3,4] <= 1.0\n",
      " Q[4,4] <= 1.0\n",
      " Q[5,4] <= 1.0\n",
      " Q[6,4] <= 1.0\n",
      " Q[7,4] <= 1.0\n",
      " Q[8,4] <= 1.0\n",
      " Q[9,4] <= 1.0\n",
      " Q[10,4] <= 1.0\n",
      " Q[1,5] <= 1.0\n",
      " Q[2,5] <= 1.0\n",
      " Q[3,5] <= 1.0\n",
      " Q[4,5] <= 1.0\n",
      " Q[5,5] <= 1.0\n",
      " Q[6,5] <= 1.0\n",
      " Q[7,5] <= 1.0\n",
      " Q[8,5] <= 1.0\n",
      " "
     ]
    },
    {
     "name": "stdout",
     "output_type": "stream",
     "text": [
      "Q[9,5] <= 1.0\n",
      " Q[10,5] <= 1.0\n"
     ]
    }
   ],
   "source": [
    "\n",
    "model = Model()\n",
    "\n",
    "#Q \n",
    "@variable(model, Q[i = 1:n_assets, j = 1:n_accounts], lower_bound = 0, upper_bound = 1)\n",
    "\n",
    "\n",
    "#Consistency constraint\n",
    "@constraint(model,[i = 1:n_assets],sum(Q[i,j] for j in 1:n_accounts) <= 1)\n",
    "\n",
    "#Requirement constraint\n",
    "@constraint(model, [j = 1:n_accounts],\n",
    "    sum(Q[i,j]*asset_quantity[i]*asset_value[i]*haircuts[i,j] for i in 1:n_assets )\n",
    "    >= account_exposure[j])\n",
    "\n",
    "\n",
    "\n",
    "#Objective_function\n",
    "@objective(model, Min, sum(Q[i,j]*cost_factor_matrix[i,j] for i in 1:n_assets,j in 1:n_accounts));\n",
    "print(model)"
   ]
  },
  {
   "attachments": {},
   "cell_type": "markdown",
   "id": "outdoor-cream",
   "metadata": {},
   "source": [
    "# Solving with HiGHs\n"
   ]
  },
  {
   "cell_type": "code",
   "execution_count": 5,
   "id": "first-monitor",
   "metadata": {},
   "outputs": [
    {
     "name": "stdout",
     "output_type": "stream",
     "text": [
      "Running HiGHS 1.4.2 [date: 1970-01-01, git hash: f797c1ab6]\n",
      "Copyright (c) 2022 ERGO-Code under MIT licence terms\n",
      "Presolving model\n",
      "15 rows, 50 cols, 100 nonzeros\n",
      "15 rows, 50 cols, 100 nonzeros\n",
      "Presolve : Reductions: rows 15(-0); columns 50(-0); elements 100(-0) - Not reduced\n",
      "Problem not reduced by presolve: solving the LP\n",
      "Using EKK dual simplex solver - serial\n",
      "  Iteration        Objective     Infeasibilities num(sum)\n",
      "          0     0.0000000000e+00 Pr: 5(5036.59) 0s\n",
      "          6     4.2998165714e-01 Pr: 0(0) 0s\n",
      "Model   status      : Optimal\n",
      "Simplex   iterations: 6\n",
      "Objective value     :  4.2998165714e-01\n",
      "HiGHS run time      :          0.03\n"
     ]
    }
   ],
   "source": [
    "set_optimizer(model, HiGHS.Optimizer)\n",
    "set_optimizer_attribute(model, \"solver\", \"simplex\")\n",
    "optimize!(model)"
   ]
  },
  {
   "cell_type": "code",
   "execution_count": 6,
   "id": "round-skiing",
   "metadata": {},
   "outputs": [
    {
     "name": "stdout",
     "output_type": "stream",
     "text": [
      "Objective value is 0.4299816571359823\n"
     ]
    }
   ],
   "source": [
    "\n",
    "println(\"Objective value is $(objective_value(model))\")\n"
   ]
  },
  {
   "attachments": {},
   "cell_type": "markdown",
   "id": "357edda8",
   "metadata": {},
   "source": [
    "# Export to .csv"
   ]
  },
  {
   "cell_type": "code",
   "execution_count": 7,
   "id": "9a6b32ae",
   "metadata": {},
   "outputs": [
    {
     "name": "stdout",
     "output_type": "stream",
     "text": [
      "Q_{2, 1} = 0.5815777234063592\n",
      "Q_{2, 2} = 0.41842227659364073\n",
      "Q_{6, 2} = 0.030472823235595\n",
      "Q_{6, 5} = 0.19002267600070313\n",
      "Q_{8, 3} = 0.5364987948853802\n",
      "Q_{8, 4} = 0.062170742703785954"
     ]
    },
    {
     "name": "stdout",
     "output_type": "stream",
     "text": [
      "\n",
      "[0.0 0.0 0.0 0.0 0.0; 0.5815777234063592 0.41842227659364073 0.0 0.0 0.0; 0.0 0.0 0.0 0.0 0.0; 0.0 0.0 0.0 0.0 0.0; 0.0 0.0 0.0 0.0 0.0; 0.0 0.030472823235595 0.0 0.0 0.19002267600070313; 0.0 0.0 0.0 0.0 0.0; 0.0 0.0 0.5364987948853802 0.062170742703785954 0.0; 0.0 0.0 0.0 0.0 0.0; 0.0 0.0 0.0 0.0 0.0]\n"
     ]
    }
   ],
   "source": [
    "Q_values_HiGHS_simplex = zeros((n_assets, n_accounts))\n",
    "\n",
    "\n",
    "for i in 1:n_assets\n",
    "    for j in 1:n_accounts\n",
    "        Q_values_HiGHS_simplex[i,j] = value(Q[i,j])\n",
    "        if value(Q[i,j]) != 0 \n",
    "            println(\"Q_{$(i), $(j)} = $(value(Q[i,j]))\")\n",
    "        end\n",
    "    end\n",
    "end\n",
    "\n",
    "println(Q_values_HiGHS_simplex)\n",
    "#store all Values to an array\n",
    "\n",
    "\n",
    "# Uncomment line below to save to csv files\n",
    "\n",
    "#writedlm(\"Q_values_HiGHS_simplex_no_single_limits.csv\", Q_values_HiGHS_simplex, ',')"
   ]
  }
 ],
 "metadata": {
  "kernelspec": {
   "display_name": "Julia 1.8.1",
   "language": "julia",
   "name": "julia-1.8"
  },
  "language_info": {
   "file_extension": ".jl",
   "mimetype": "application/julia",
   "name": "julia",
   "version": "1.8.1"
  }
 },
 "nbformat": 4,
 "nbformat_minor": 5
}
