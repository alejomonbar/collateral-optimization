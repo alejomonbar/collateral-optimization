{
 "cells": [
  {
   "cell_type": "code",
   "execution_count": 1,
   "id": "07dd4c4e",
   "metadata": {},
   "outputs": [],
   "source": [
    "import numpy as np\n",
    "from docplex.mp.model import Model\n",
    "from datetime import datetime\n",
    "import pandas as pd\n",
    "import matplotlib.pyplot as plt\n",
    "from collections import defaultdict\n",
    "\n",
    "from openqaoa.problems.converters import FromDocplex2IsingModel"
   ]
  },
  {
   "cell_type": "code",
   "execution_count": 2,
   "id": "eb586abd",
   "metadata": {},
   "outputs": [],
   "source": [
    "def constraint_1(sol, asset, n_accounts, n_binary):\n",
    "    bin_coef = [2**n/(2**n_binary - 1) for n in range(n_binary)]\n",
    "    const_1 = 0\n",
    "    for j in range(n_accounts):\n",
    "        for b in range(n_binary):\n",
    "            if f\"Q_{asset}_{j}^{b}\" in sol.keys() and sol[f\"Q_{asset}_{j}^{b}\"]:\n",
    "                const_1 += bin_coef[b]\n",
    "    return const_1 <= 1\n",
    "\n",
    "def constraint_2(sol, account, n_assets, n_binary, asset_quantity, asset_value, haircuts, account_exposure):\n",
    "    bin_coef = [2**n/(2**n_binary - 1) for n in range(n_binary)]\n",
    "    const_2 = 0\n",
    "    for i in range(n_assets):\n",
    "        for b in range(n_binary):\n",
    "            if f\"Q_{i}_{account}^{b}\" in sol.keys() and sol[f\"Q_{i}_{account}^{b}\"]:\n",
    "                const_2 += bin_coef[b]*asset_quantity[i]*asset_value[i]*(haircuts[i][account]/100)\n",
    "    return const_2 >= account_exposure[account]\n",
    "\n",
    "def solution_allocation(sol, n_binary):\n",
    "    bin_coef = [2**n/(2**n_binary - 1) for n in range(n_binary)]\n",
    "    sol_short = defaultdict(float)\n",
    "    sol_long = defaultdict(float)\n",
    "\n",
    "    for i in range(n_assets):\n",
    "        for j in range(n_accounts):\n",
    "            for b in range(n_binary):\n",
    "                if f\"Q_{i}_{j}^{b}\" in sol.keys() and sol[f\"Q_{i}_{j}^{b}\"]:\n",
    "                    if account_duration[j]:\n",
    "                        sol_short[f\"Q_{i}\"] += bin_coef[b]\n",
    "                    else:\n",
    "                        sol_long[f\"Q_{i}\"] += bin_coef[b]\n",
    "                else:\n",
    "                    sol_long[f\"Q_{i}\"] += 0\n",
    "                    sol_short[f\"Q_{i}\"] += 0\n",
    "    return {\"short\":sol_short, \"long\":sol_long}\n",
    "\n",
    "def collateral_opt(n_binary, asset_quantity, asset_value, asset_tiers, account_exposure, account_duration, haircuts):\n",
    "    n_assets = len(asset_quantity)\n",
    "    n_accounts = len(account_exposure)\n",
    "    \n",
    "    # Updated Tier list \n",
    "    Omega = np.zeros(shape=(n_assets, n_accounts))\n",
    "\n",
    "    for i in range(n_assets):\n",
    "        for j in range(n_accounts):\n",
    "            Omega[i,j] = abs(account_duration[j] - asset_tiers[i])\n",
    "\n",
    "    mdl = Model(\"Collateral_Opt\")\n",
    "    bin_coef = [2**n/(2**n_binary - 1) for n in range(n_binary)]\n",
    "\n",
    "    Q = [[[mdl.binary_var(f\"Q_{i}_{j}^{b}\") for b in range(n_binary)] for j in range(n_accounts)] for i in range(n_assets)]\n",
    "\n",
    "    # Q = mdl.binary_var_matrix(n_assets, n_accounts, name=\"Q\")\n",
    "\n",
    "    cost  = 0\n",
    "    for i in range(n_assets):\n",
    "        for j in range(n_accounts):\n",
    "            for b in range(n_binary):\n",
    "                cost += bin_coef[b] * (Omega[i][j]) * Q[i][j][b]\n",
    "\n",
    "    mdl.minimize(cost)\n",
    "\n",
    "    # First constraint: no asset is distributed to the accounts beyond unity\n",
    "    for i in range(n_assets):\n",
    "        mdl.add_constraint(mdl.sum(bin_coef[b]* Q[i][j][b] for b in range(n_binary) for j in range(n_accounts)) <= 1)\n",
    "    # second constraint: the requirement constraint that enforces that we allocate a suitable value such that the lender’s loan is secured\n",
    "    \n",
    "    for j in range(n_accounts):\n",
    "        val = np.mean([v*q for v, q in zip(asset_value,asset_quantity)])\n",
    "        mdl.add_constraint(mdl.sum(bin_coef[b]*asset_quantity[i]*asset_value[i]*\n",
    "                                   (haircuts[i][j]/100)* Q[i][j][b]/val\n",
    "                                   for b in range(n_binary) for i in range(n_assets)) >= account_exposure[j]/val)\n",
    "        \n",
    "#         mdl.add_constraint(mdl.sum(bin_coef[b]*asset_quantity[i]*(asset_value[i]/account_exposure[j])*\n",
    "#                                    (haircuts[i][j]/100) * Q[i][j][b]\n",
    "#                                    for b in range(n_binary) for i in range(n_assets)) == 1)\n",
    "    return mdl\n",
    "\n",
    "def collateral_opt_unb(lambdas, n_binary, asset_quantity, asset_value, asset_tiers, account_exposure, account_duration, haircuts):\n",
    "    n_assets = len(asset_quantity)\n",
    "    n_accounts = len(account_exposure)\n",
    "    \n",
    "    # Updated Tier list \n",
    "    Omega = np.zeros(shape=(n_assets, n_accounts))\n",
    "\n",
    "    for i in range(n_assets):\n",
    "        for j in range(n_accounts):\n",
    "            Omega[i,j] = abs(account_duration[j] - asset_tiers[i])\n",
    "\n",
    "    mdl = Model(\"Collateral_Opt\")\n",
    "    bin_coef = [2**n/(2**n_binary - 1) for n in range(n_binary)]\n",
    "\n",
    "    Q = [[[mdl.binary_var(f\"Q_{i}_{j}^{b}\") for b in range(n_binary)] for j in range(n_accounts)] for i in range(n_assets)]\n",
    "    cost  = 0\n",
    "    for i in range(n_assets):\n",
    "        for j in range(n_accounts):\n",
    "            for b in range(n_binary):\n",
    "                cost += bin_coef[b] * (Omega[i][j]) * Q[i][j][b]\n",
    "\n",
    "    # First constraint: no asset is distributed to the accounts beyond unity\n",
    "    for i in range(n_assets):\n",
    "        h1 = (1 - mdl.sum(bin_coef[b]* Q[i][j][b] for b in range(n_binary) for j in range(n_accounts)))\n",
    "        cost -= lambdas[0] * h1\n",
    "        cost += lambdas[1] * h1**2\n",
    "    # second constraint: the requirement constraint that enforces that we allocate a suitable value such that the lender’s loan is secured\n",
    "    \n",
    "    for j in range(n_accounts):\n",
    "        h2 = (mdl.sum(min(bin_coef[b]*asset_quantity[i]*asset_value[i]/account_exposure[j], 1)*\n",
    "                           (haircuts[i][j]/100) * Q[i][j][b]\n",
    "                           for b in range(n_binary) for i in range(n_assets)) - 1)\n",
    "#         h2 = (mdl.sum(bin_coef[b]*asset_quantity[i]*asset_value[i]*\n",
    "#                                    (haircuts[i][j]/100)/min_val * Q[i][j][b]\n",
    "#                                    for b in range(n_binary) for i in range(n_assets)) - account_exposure[j]/min_val)\n",
    "        \n",
    "        cost -= lambdas[2] * h2\n",
    "        cost += lambdas[3] * h2 ** 2\n",
    "    mdl.minimize(cost)\n",
    "    return mdl\n",
    "\n",
    "def get_cost(sol, n_binary, account_duration, asset_tiers):\n",
    "    bin_coef = [2**n/(2**n_binary - 1) for n in range(n_binary)]\n",
    "    n_assets = len(asset_tiers)\n",
    "    n_accounts = len(account_duration)\n",
    "    \n",
    "    # Updated Tier list \n",
    "    Omega = np.zeros(shape=(n_assets, n_accounts))\n",
    "\n",
    "    for i in range(n_assets):\n",
    "        for j in range(n_accounts):\n",
    "            Omega[i,j] = abs(account_duration[j] - asset_tiers[i])\n",
    "    cost  = 0\n",
    "    for i in range(n_assets):\n",
    "        for j in range(n_accounts):\n",
    "            for b in range(n_binary):\n",
    "                if f\"Q_{i}_{j}^{b}\" in sol.keys() and sol[f\"Q_{i}_{j}^{b}\"]:\n",
    "                    cost += bin_coef[b] * (Omega[i][j])\n",
    "    return cost"
   ]
  },
  {
   "cell_type": "code",
   "execution_count": 3,
   "id": "83509b2a",
   "metadata": {},
   "outputs": [
    {
     "name": "stdout",
     "output_type": "stream",
     "text": [
      "Num. assets: 10, num. accounts: 5\n"
     ]
    }
   ],
   "source": [
    "# Input data \n",
    "\n",
    "# Assets\n",
    "asset_quantity = pd.read_csv(\"data/sample_asset_quantity.csv\", header=None)[0].values.tolist()\n",
    "asset_value = pd.read_csv(\"data/sample_asset_value.csv\", header=None)[0].values.tolist()\n",
    "asset_tiers = pd.read_csv(\"data/sample_asset_tiers.csv\", header=None)[0].values.tolist()\n",
    "\n",
    "n_assets = len(asset_quantity)\n",
    "\n",
    "# Accounts \n",
    "account_exposure = pd.read_csv(\"data/sample_account_exposure.csv\", header=None)[0].values.tolist()\n",
    "account_duration = pd.read_csv(\"data/sample_account_duration.csv\", header=None)[0].values.tolist()\n",
    "\n",
    "n_accounts = len(account_exposure)\n",
    "\n",
    "# Haircuts\n",
    "haircuts = (pd.read_csv(\"data/sample_haircuts.csv\", header=None).values.tolist())\n",
    "\n",
    "print(f\"Num. assets: {n_assets}, num. accounts: {n_accounts}\")"
   ]
  },
  {
   "cell_type": "code",
   "execution_count": 4,
   "id": "32f3b7dc",
   "metadata": {},
   "outputs": [
    {
     "name": "stdout",
     "output_type": "stream",
     "text": [
      "----------- binary terms:1 -------------\n",
      "Cost:  1.5\n",
      "Satisfied all constriants 1:  True\n",
      "Satisfied all constriants 2:  True\n",
      "----------- binary terms:2 -------------\n",
      "Cost:  0.6666666666666666\n",
      "Satisfied all constriants 1:  True\n",
      "Satisfied all constriants 2:  True\n",
      "----------- binary terms:3 -------------\n",
      "Cost:  0.49999999999999994\n",
      "Satisfied all constriants 1:  True\n",
      "Satisfied all constriants 2:  True\n",
      "----------- binary terms:4 -------------\n",
      "Cost:  0.45999999999999996\n",
      "Satisfied all constriants 1:  True\n",
      "Satisfied all constriants 2:  True\n",
      "----------- binary terms:5 -------------\n",
      "Cost:  0.4419354838709677\n",
      "Satisfied all constriants 1:  True\n",
      "Satisfied all constriants 2:  True\n",
      "----------- binary terms:6 -------------\n",
      "Cost:  0.4317460317460317\n",
      "Satisfied all constriants 1:  True\n",
      "Satisfied all constriants 2:  True\n",
      "----------- binary terms:7 -------------\n",
      "Cost:  0.43149606299212584\n",
      "Satisfied all constriants 1:  True\n",
      "Satisfied all constriants 2:  True\n",
      "----------- binary terms:8 -------------\n",
      "Cost:  0.4309803921568628\n",
      "Satisfied all constriants 1:  True\n",
      "Satisfied all constriants 2:  True\n",
      "----------- binary terms:9 -------------\n",
      "Cost:  0.4307240704500979\n",
      "Satisfied all constriants 1:  True\n",
      "Satisfied all constriants 2:  True\n",
      "----------- binary terms:10 -------------\n",
      "Cost:  0.43030303030303013\n",
      "Satisfied all constriants 1:  True\n",
      "Satisfied all constriants 2:  True\n"
     ]
    }
   ],
   "source": [
    "Qmax = 1\n",
    "Qmin = 0\n",
    "\n",
    "opt_sols = {}\n",
    "for n_binary in range(1,11):\n",
    "    print(f\"----------- binary terms:{n_binary} -------------\")\n",
    "    mdl = collateral_opt(n_binary, asset_quantity, asset_value, asset_tiers, account_exposure, account_duration, haircuts)\n",
    "    # mdl.prettyprint()\n",
    "    mdl.solve()\n",
    "    sol = {name.name:value for name, value in mdl.solution.as_dict().items()}\n",
    "    print(\"Cost: \", get_cost(sol, n_binary, account_duration, asset_tiers))\n",
    "    print(\"Satisfied all constriants 1: \", all([constraint_1(sol, i, n_accounts, n_binary) for i in range(n_assets)]))\n",
    "    print(\"Satisfied all constriants 2: \", all([constraint_2(sol, j, n_assets, n_binary, asset_quantity,\n",
    "              asset_value, haircuts, account_exposure) for j in range(n_accounts)]))\n",
    "    opt_sols[n_binary] = mdl.objective_value"
   ]
  },
  {
   "cell_type": "code",
   "execution_count": 5,
   "id": "09c1ab72",
   "metadata": {},
   "outputs": [
    {
     "data": {
      "text/plain": [
       "Text(0, 0.5, 'Cost fun.')"
      ]
     },
     "execution_count": 5,
     "metadata": {},
     "output_type": "execute_result"
    },
    {
     "data": {
      "image/png": "[encoded data removed]",
      "text/plain": [
       "<Figure size 640x480 with 1 Axes>"
      ]
     },
     "metadata": {},
     "output_type": "display_data"
    }
   ],
   "source": [
    "fig, ax = plt.subplots()\n",
    "ax.plot(opt_sols.keys(), opt_sols.values(), marker=\"o\", markeredgecolor=\"black\")\n",
    "ax.set_xlabel(\"num. bits\")\n",
    "ax.set_ylabel(\"Cost fun.\")"
   ]
  },
  {
   "cell_type": "code",
   "execution_count": 6,
   "id": "e637a4b2",
   "metadata": {},
   "outputs": [],
   "source": [
    "n_binary = 7\n",
    "mdl = collateral_opt(n_binary, asset_quantity, asset_value, asset_tiers, account_exposure, account_duration, haircuts)\n",
    "mdl.solve()\n",
    "sol = {name.name:value for name, value in mdl.solution.as_dict().items()}\n",
    "sol_alloc = solution_allocation(sol, n_binary)\n"
   ]
  },
  {
   "cell_type": "code",
   "execution_count": 7,
   "id": "c8262dc6",
   "metadata": {},
   "outputs": [
    {
     "data": {
      "text/plain": [
       "<matplotlib.legend.Legend at 0x7fcfb206b2b0>"
      ]
     },
     "execution_count": 7,
     "metadata": {},
     "output_type": "execute_result"
    },
    {
     "data": {
      "image/png": "[encoded data removed]",
      "text/plain": [
       "<Figure size 640x480 with 1 Axes>"
      ]
     },
     "metadata": {},
     "output_type": "display_data"
    }
   ],
   "source": [
    "# Plotting\n",
    "fig, ax = plt.subplots()\n",
    "width = 0.35  # Width of the bars\n",
    "\n",
    "# Calculate the position for each account\n",
    "positions = range(len(sol_alloc[\"short\"]))\n",
    "\n",
    "# Plotting the \"short\" bars\n",
    "ax.bar(positions, sol_alloc[\"short\"].values(), width, label=\"short\", color=\"tab:orange\", edgecolor=\"black\", alpha=0.8)\n",
    "\n",
    "# Plotting the \"long\" bars next to the \"short\" bars\n",
    "ax.bar([p + width for p in positions], sol_alloc[\"long\"].values(), width, label=\"long\", color=\"tab:blue\", edgecolor=\"black\", alpha=0.8)\n",
    "\n",
    "# Adjust the x-axis tick positions and labels\n",
    "ax.set_xticks([p + width/2 for p in positions])\n",
    "ax.set_xticklabels([f\"${i}$\" for i in sol_alloc[\"short\"].keys()])\n",
    "\n",
    "ax.legend()"
   ]
  },
  {
   "cell_type": "markdown",
   "id": "c3fc723a",
   "metadata": {},
   "source": [
    "## Unbalanced penalization formulation"
   ]
  },
  {
   "cell_type": "code",
   "execution_count": 130,
   "id": "0c3e47c2",
   "metadata": {},
   "outputs": [],
   "source": [
    "n_binary = 3\n",
    "mdl = collateral_opt(n_binary, asset_quantity, asset_value, asset_tiers, account_exposure, account_duration, haircuts)\n",
    "qubo = FromDocplex2IsingModel(mdl, unbalanced_const=True, strength_ineq=[3,1])\n",
    "# lambdas = [3,1,1,2]\n",
    "# mdl = collateral_opt_unb(lambdas, n_binary, asset_quantity, asset_value, asset_tiers, account_exposure, account_duration, haircuts)\n",
    "# qubo = FromDocplex2IsingModel(mdl)\n",
    "\n",
    "qubo_cplex = qubo.qubo_docplex"
   ]
  },
  {
   "cell_type": "code",
   "execution_count": 131,
   "id": "1c8bbc5c",
   "metadata": {},
   "outputs": [
    {
     "name": "stdout",
     "output_type": "stream",
     "text": [
      "solution for: Collateral_Opt\n",
      "objective: -21.619\n",
      "status: OPTIMAL_SOLUTION(2)\n",
      "Q_1_0^2 = 1\n",
      "Q_4_1^0 = 1\n",
      "Q_4_1^2 = 1\n",
      "Q_4_4^0 = 1\n",
      "Q_5_0^1 = 1\n",
      "Q_5_2^0 = 1\n",
      "Q_5_2^1 = 1\n",
      "Q_5_3^1 = 1\n",
      "Q_5_4^1 = 1\n",
      "Q_7_2^0 = 1\n",
      "Q_7_4^0 = 1\n"
     ]
    }
   ],
   "source": [
    "qubo_cplex.solve(time_limit=20)\n",
    "qubo_cplex.solution.display()"
   ]
  },
  {
   "cell_type": "code",
   "execution_count": 132,
   "id": "80d8d43c",
   "metadata": {},
   "outputs": [
    {
     "name": "stdout",
     "output_type": "stream",
     "text": [
      "Satisfied all constriants 1:  False\n",
      "Satisfied all constriants 2:  True\n",
      "The cost is: 1.2428571428571424\n"
     ]
    }
   ],
   "source": [
    "sol = {name.name:value for name, value in qubo_cplex.solution.as_dict().items()}\n",
    "print(\"Satisfied all constriants 1: \", all([constraint_1(sol, i, n_accounts, n_binary) for i in range(n_assets)]))\n",
    "print(\"Satisfied all constriants 2: \", all([constraint_2(sol, j, n_assets, n_binary, asset_quantity,asset_value, haircuts, account_exposure) for j in range(n_accounts)]))\n",
    "print(f\"The cost is: {get_cost(sol, n_binary, account_duration, asset_tiers)}\")\n",
    "sol_alloc = solution_allocation(sol, n_binary)"
   ]
  },
  {
   "cell_type": "code",
   "execution_count": 133,
   "id": "d4e85d2d",
   "metadata": {},
   "outputs": [
    {
     "data": {
      "text/plain": [
       "<matplotlib.legend.Legend at 0x7f8fb60ee6d0>"
      ]
     },
     "execution_count": 133,
     "metadata": {},
     "output_type": "execute_result"
    },
    {
     "data": {
      "image/png": "[encoded data removed]",
      "text/plain": [
       "<Figure size 640x480 with 1 Axes>"
      ]
     },
     "metadata": {},
     "output_type": "display_data"
    }
   ],
   "source": [
    "# Plotting\n",
    "fig, ax = plt.subplots()\n",
    "width = 0.35  # Width of the bars\n",
    "\n",
    "# Calculate the position for each account\n",
    "positions = range(len(sol_alloc[\"short\"]))\n",
    "\n",
    "# Plotting the \"short\" bars\n",
    "ax.bar(positions, sol_alloc[\"short\"].values(), width, label=\"short\", color=\"tab:orange\", edgecolor=\"black\", alpha=0.8)\n",
    "\n",
    "# Plotting the \"long\" bars next to the \"short\" bars\n",
    "ax.bar([p + width for p in positions], sol_alloc[\"long\"].values(), width, label=\"long\", color=\"tab:blue\", edgecolor=\"black\", alpha=0.8)\n",
    "\n",
    "# Adjust the x-axis tick positions and labels\n",
    "ax.set_xticks([p + width/2 for p in positions])\n",
    "ax.set_xticklabels([f\"${i}$\" for i in sol_alloc[\"short\"].keys()])\n",
    "\n",
    "ax.legend()"
   ]
  },
  {
   "cell_type": "markdown",
   "id": "55de5131",
   "metadata": {},
   "source": [
    "## Solution DWave"
   ]
  },
  {
   "cell_type": "code",
   "execution_count": 118,
   "id": "b2dffac9",
   "metadata": {},
   "outputs": [],
   "source": [
    "from dwave.cloud import Client\n",
    "from dwave.system import DWaveSampler, LeapHybridSampler, EmbeddingComposite, FixedEmbeddingComposite, LazyFixedEmbeddingComposite, AutoEmbeddingComposite\n",
    "import dimod\n",
    "from neal import SimulatedAnnealingSampler\n",
    "\n",
    "client_eu = Client.from_config(profile='eu')\n",
    "client_na = Client.from_config(profile='na')"
   ]
  },
  {
   "cell_type": "code",
   "execution_count": 6,
   "id": "8e5d0026",
   "metadata": {},
   "outputs": [],
   "source": [
    "def valid_solution(dfi, mdl, n_binary):\n",
    "    solutions_dwave = {}\n",
    "    for i, row in dfi.iterrows():\n",
    "        s_d = ''.join('0' if row[q] == 1 else '1' for q in row.keys() if type(q) == int)\n",
    "        sol = {var.name:s_d[n] for n, var in enumerate(mdl.iter_binary_vars()) if s_d[n] == \"1\"}\n",
    "        if all([constraint_1(sol, i, n_accounts, n_binary) for i in range(n_assets)]):\n",
    "            if all([constraint_2(sol, j, n_assets, n_binary, asset_quantity,\n",
    "                               asset_value, haircuts, account_exposure) for j in range(n_accounts)]):\n",
    "                cost = get_cost(sol, n_binary, account_duration, asset_tiers)\n",
    "                solutions_dwave[cost] = sol\n",
    "    return solutions_dwave"
   ]
  },
  {
   "cell_type": "code",
   "execution_count": 7,
   "id": "149fc734",
   "metadata": {},
   "outputs": [],
   "source": [
    "sampler_qpu = EmbeddingComposite(DWaveSampler(solver='Advantage_system5.3', profile='eu'))\n",
    "sampler_hybrid = LeapHybridSampler(solver='hybrid_binary_quadratic_model_version2', profile=\"na\")\n"
   ]
  },
  {
   "cell_type": "code",
   "execution_count": 248,
   "id": "c6115250",
   "metadata": {},
   "outputs": [],
   "source": [
    "n_binary = 2\n",
    "lambdas = [10,2,2.5,1]\n",
    "mdl = collateral_opt_unb(lambdas, n_binary, asset_quantity, asset_value, asset_tiers, account_exposure, account_duration, haircuts)\n",
    "qubo = FromDocplex2IsingModel(mdl)\n",
    "\n",
    "# mdl = collateral_opt(n_binary, asset_quantity, asset_value, asset_tiers, account_exposure, account_duration, haircuts)\n",
    "# qubo = FromDocplex2IsingModel(mdl, unbalanced_const=True, strength_ineq=[3,1])\n",
    "ising = qubo.ising_model\n",
    "max_weight = max(np.abs(ising.weights))\n",
    "h = {term[0]:weight/max_weight for term, weight in zip(ising.terms, ising.weights) if len(term)==1}\n",
    "J = {tuple(term):weight/max_weight  for term, weight in zip(ising.terms, ising.weights) if len(term)==2}\n",
    "bqm = dimod.BQM.from_ising(h, J)\n",
    "r = sampler_qpu.sample(bqm, num_reads=5000)\n",
    "df = r.to_pandas_dataframe().sort_values('energy').reset_index(drop=True)"
   ]
  },
  {
   "cell_type": "code",
   "execution_count": 249,
   "id": "7a17010c",
   "metadata": {},
   "outputs": [],
   "source": [
    "valid_dwave = valid_solution(df, mdl, n_binary)"
   ]
  },
  {
   "cell_type": "code",
   "execution_count": 250,
   "id": "b1de8c5e",
   "metadata": {},
   "outputs": [
    {
     "data": {
      "text/plain": [
       "Text(0.5, 0, 'valid solution')"
      ]
     },
     "execution_count": 250,
     "metadata": {},
     "output_type": "execute_result"
    },
    {
     "data": {
      "image/png": "[encoded data removed]",
      "text/plain": [
       "<Figure size 640x480 with 1 Axes>"
      ]
     },
     "metadata": {},
     "output_type": "display_data"
    }
   ],
   "source": [
    "fig, ax = plt.subplots()\n",
    "ax.plot(range(1,len(valid_dwave.keys())+1), valid_dwave.keys(), marker=\"o\", linewidth=0 )\n",
    "ax.set_ylabel(\"Cost\")\n",
    "ax.set_xlabel(\"valid solution\")\n"
   ]
  },
  {
   "cell_type": "code",
   "execution_count": 251,
   "id": "da7ac96c",
   "metadata": {},
   "outputs": [
    {
     "data": {
      "text/plain": [
       "<matplotlib.legend.Legend at 0x7f8fcfd09ee0>"
      ]
     },
     "execution_count": 251,
     "metadata": {},
     "output_type": "execute_result"
    },
    {
     "data": {
      "image/png": "[encoded data removed]",
      "text/plain": [
       "<Figure size 640x480 with 1 Axes>"
      ]
     },
     "metadata": {},
     "output_type": "display_data"
    }
   ],
   "source": [
    "cost_min = min(list(valid_dwave.keys()))\n",
    "sol_alloc = solution_allocation(valid_dwave[cost_min], n_binary)\n",
    "# Plotting\n",
    "fig, ax = plt.subplots()\n",
    "width = 0.35  # Width of the bars\n",
    "\n",
    "# Calculate the position for each account\n",
    "positions = range(len(sol_alloc[\"short\"]))\n",
    "\n",
    "# Plotting the \"short\" bars\n",
    "ax.bar(positions, sol_alloc[\"short\"].values(), width, label=\"short\", color=\"tab:orange\", edgecolor=\"black\", alpha=0.8)\n",
    "\n",
    "# Plotting the \"long\" bars next to the \"short\" bars\n",
    "ax.bar([p + width for p in positions], sol_alloc[\"long\"].values(), width, label=\"long\", color=\"tab:blue\", edgecolor=\"black\", alpha=0.8)\n",
    "\n",
    "# Adjust the x-axis tick positions and labels\n",
    "ax.set_xticks([p + width/2 for p in positions])\n",
    "ax.set_xticklabels([f\"${i}$\" for i in sol_alloc[\"short\"].keys()])\n",
    "\n",
    "ax.legend()"
   ]
  },
  {
   "cell_type": "markdown",
   "id": "ecba09d1",
   "metadata": {},
   "source": [
    "## Hybrid"
   ]
  },
  {
   "cell_type": "code",
   "execution_count": 182,
   "id": "fd7b42f7",
   "metadata": {},
   "outputs": [],
   "source": [
    "n_binary = 3\n",
    "lambdas = [2,1,1,5]\n",
    "mdl = collateral_opt_unb(lambdas, n_binary, asset_quantity, asset_value, asset_tiers, account_exposure, account_duration, haircuts)\n",
    "qubo = FromDocplex2IsingModel(mdl)\n",
    "ising = qubo.ising_model\n",
    "max_weight = max(np.abs(ising.weights))\n",
    "h = {term[0]:weight/max_weight for term, weight in zip(ising.terms, ising.weights) if len(term)==1}\n",
    "J = {tuple(term):weight/max_weight  for term, weight in zip(ising.terms, ising.weights) if len(term)==2}\n",
    "bqm = dimod.BQM.from_ising(h, J)\n",
    "r = sampler_hybrid.sample(bqm)\n",
    "df_hybrid = r.to_pandas_dataframe().sort_values('energy').reset_index(drop=True)"
   ]
  },
  {
   "cell_type": "code",
   "execution_count": 183,
   "id": "f529d042",
   "metadata": {},
   "outputs": [
    {
     "data": {
      "text/plain": [
       "{0.5999999999999999: {'Q_1_0^0': '1',\n",
       "  'Q_1_0^1': '1',\n",
       "  'Q_3_1^0': '1',\n",
       "  'Q_4_0^0': '1',\n",
       "  'Q_4_1^0': '1',\n",
       "  'Q_4_2^0': '1',\n",
       "  'Q_5_1^0': '1',\n",
       "  'Q_5_2^0': '1',\n",
       "  'Q_5_4^0': '1',\n",
       "  'Q_7_3^0': '1',\n",
       "  'Q_7_4^0': '1'}}"
      ]
     },
     "execution_count": 183,
     "metadata": {},
     "output_type": "execute_result"
    }
   ],
   "source": [
    "valid_hybrid = valid_solution(df_hybrid, mdl, n_binary)\n",
    "valid_hybrid"
   ]
  },
  {
   "cell_type": "code",
   "execution_count": 239,
   "id": "a3c13128",
   "metadata": {},
   "outputs": [],
   "source": [
    "sol_alloc = solution_allocation(list(valid_hybrid.values())[0], n_binary)"
   ]
  },
  {
   "cell_type": "code",
   "execution_count": 240,
   "id": "29e8e8bb",
   "metadata": {},
   "outputs": [
    {
     "data": {
      "text/plain": [
       "<matplotlib.legend.Legend at 0x7f9023d093a0>"
      ]
     },
     "execution_count": 240,
     "metadata": {},
     "output_type": "execute_result"
    },
    {
     "data": {
      "image/png": "[encoded data removed]",
      "text/plain": [
       "<Figure size 640x480 with 1 Axes>"
      ]
     },
     "metadata": {},
     "output_type": "display_data"
    }
   ],
   "source": [
    "# Plotting\n",
    "fig, ax = plt.subplots()\n",
    "width = 0.35  # Width of the bars\n",
    "\n",
    "# Calculate the position for each account\n",
    "positions = range(len(sol_alloc[\"short\"]))\n",
    "\n",
    "# Plotting the \"short\" bars\n",
    "ax.bar(positions, sol_alloc[\"short\"].values(), width, label=\"short\", color=\"tab:orange\", edgecolor=\"black\", alpha=0.8)\n",
    "\n",
    "# Plotting the \"long\" bars next to the \"short\" bars\n",
    "ax.bar([p + width for p in positions], sol_alloc[\"long\"].values(), width, label=\"long\", color=\"tab:blue\", edgecolor=\"black\", alpha=0.8)\n",
    "\n",
    "# Adjust the x-axis tick positions and labels\n",
    "ax.set_xticks([p + width/2 for p in positions])\n",
    "ax.set_xticklabels([f\"${i}$\" for i in sol_alloc[\"short\"].keys()])\n",
    "\n",
    "ax.legend()"
   ]
  },
  {
   "cell_type": "code",
   "execution_count": null,
   "id": "b6ab9996",
   "metadata": {},
   "outputs": [],
   "source": []
  }
 ],
 "metadata": {
  "kernelspec": {
   "display_name": "openqaoa_env",
   "language": "python",
   "name": "openqaoa_env"
  },
  "language_info": {
   "codemirror_mode": {
    "name": "ipython",
    "version": 3
   },
   "file_extension": ".py",
   "mimetype": "text/x-python",
   "name": "python",
   "nbconvert_exporter": "python",
   "pygments_lexer": "ipython3",
   "version": "3.8.16"
  }
 },
 "nbformat": 4,
 "nbformat_minor": 5
}
