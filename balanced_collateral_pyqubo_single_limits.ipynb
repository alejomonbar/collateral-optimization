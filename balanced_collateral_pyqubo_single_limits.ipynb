{
 "cells": [
  {
   "cell_type": "code",
   "execution_count": 2,
   "id": "downtown-anatomy",
   "metadata": {},
   "outputs": [],
   "source": [
    "import numpy as np\n",
    "from pyqubo import Binary\n",
    "import pyqubo\n",
    "import neal\n",
    "import matplotlib.pyplot as plt \n",
    "from sympy import *\n",
    "from datetime import datetime\n",
    "import pandas as pd\n"
   ]
  },
  {
   "attachments": {},
   "cell_type": "markdown",
   "id": "b835204e",
   "metadata": {},
   "source": [
    "## Input Data "
   ]
  },
  {
   "cell_type": "code",
   "execution_count": 3,
   "id": "stunning-jenny",
   "metadata": {},
   "outputs": [],
   "source": [
    "#input data \n",
    "\n",
    "\n",
    "#Assets\n",
    "asset_quantity = pd.read_csv(\"data/sample_asset_quantity.csv\", header=None)[0].to_numpy()\n",
    "asset_value = pd.read_csv(\"data/sample_asset_value.csv\", header=None)[0].to_numpy()\n",
    "asset_tiers = pd.read_csv(\"data/sample_asset_tiers.csv\", header=None)[0].to_numpy()\n",
    "\n",
    "n_assets = len(asset_quantity)\n",
    "\n",
    "#Accounts \n",
    "account_exposure = pd.read_csv(\"data/sample_account_exposure.csv\", header=None)[0].to_numpy()\n",
    "account_duration = pd.read_csv(\"data/sample_account_duration.csv\", header=None)[0].to_numpy()\n",
    "\n",
    "n_accounts = len(account_exposure)\n",
    "\n",
    "#single limits\n",
    "single_limits = pd.read_csv(\"data/sample_single_limits.csv\", header=None).to_numpy() \n",
    "\n",
    "#haircuts \n",
    "haircuts = pd.read_csv(\"data/sample_haircuts.csv\", header=None).to_numpy()/100\n",
    "\n",
    "#Updated Tier list \n",
    "cost_factor_matrix = np.zeros(shape=(n_assets, n_accounts))\n",
    "\n",
    "for i in range(n_assets):\n",
    "    for j in range(n_accounts):\n",
    "        cost_factor_matrix[i,j] = abs(account_duration[j] - asset_tiers[i])"
   ]
  },
  {
   "attachments": {},
   "cell_type": "markdown",
   "id": "745912c2",
   "metadata": {},
   "source": [
    "# Penalty Terms"
   ]
  },
  {
   "cell_type": "code",
   "execution_count": 4,
   "id": "8b158701",
   "metadata": {},
   "outputs": [],
   "source": [
    "\n",
    "#Penalty Terms\n",
    "lambda_cost_fn = 1e3\n",
    "lambda_consistency = 1\n",
    "lambda_exposure = 1\n",
    "\n"
   ]
  },
  {
   "attachments": {},
   "cell_type": "markdown",
   "id": "929ffbd4",
   "metadata": {},
   "source": [
    "# Defining the QUBO"
   ]
  },
  {
   "cell_type": "code",
   "execution_count": 5,
   "id": "objective-upper",
   "metadata": {},
   "outputs": [],
   "source": [
    "# Binary variables\n",
    "\n",
    "n_binary = 7\n",
    "max_binary_value = 2**(n_binary) - 1 \n",
    "\n",
    "binary_coeff_vector = np.zeros(n_binary)\n",
    "\n",
    "for i in range(n_binary):\n",
    "    binary_coeff_vector[i] = 2**i\n",
    "\n",
    "\n",
    "#Decision variable\n",
    "\n",
    "binary_variables = []\n",
    "\n",
    "for i in range(n_assets):\n",
    "    for j in range(n_accounts):\n",
    "        for k in range(n_binary):\n",
    "            globals()[\"x\" + str(i + 1) + str(j + 1) + str(k+1)] = Binary(\"x\" + str(i + 1) + str(j + 1) + str(k+1))\n",
    "            binary_variables.append(globals()[\"x\" + str(i + 1) + str(j + 1) + str(k + 1)])\n",
    "\n",
    "\n",
    "#Slack variable for consistency \n",
    "num_slack_consistency_arr = np.zeros(shape=(n_assets))\n",
    "\n",
    "for i in range(n_assets):\n",
    "    num_slack_consistency_arr[i] = int(np.ceil(np.log2(max_binary_value)))\n",
    "\n",
    "\n",
    "consistency_slack_variables_arr = [] \n",
    "\n",
    "for count, i in enumerate(num_slack_consistency_arr): \n",
    "    consistency_slack_variables_arr.append(pyqubo.Array.create(\"consistency_asset\" + str(count + 1) + \"_slack\", shape = int(i), vartype = \"BINARY\"))\n",
    "\n",
    "#single limits\n",
    "single_limits_fractional = np.zeros_like(single_limits) \n",
    "single_limits_num_bits = np.zeros((n_assets,n_accounts), dtype=int) \n",
    "\n",
    "\n",
    "for i in range(n_assets):\n",
    "    for j in range(n_accounts):\n",
    "        single_limits_fractional[i][j] = single_limits[i][j]/asset_quantity[i]\n",
    "        aux_variable = int(np.floor(np.log2(single_limits_fractional[i][j]*max_binary_value)))\n",
    "        single_limits_num_bits[i][j] = n_binary if aux_variable > n_binary else aux_variable\n",
    "    \n",
    "\n"
   ]
  },
  {
   "attachments": {},
   "cell_type": "markdown",
   "id": "dba1036e",
   "metadata": {},
   "source": [
    "# Constructing the QUBO equation \n",
    "\n",
    "This involves the QUBO objective function, the consistency contraints, the exposure constraints."
   ]
  },
  {
   "cell_type": "code",
   "execution_count": 6,
   "id": "unusual-paraguay",
   "metadata": {},
   "outputs": [],
   "source": [
    "\n",
    "#QUBO objective function \n",
    "\n",
    "cost_fn = 0\n",
    "\n",
    "for i in range(n_assets):\n",
    "    for j in range(n_accounts):\n",
    "        aux_term1 = 0\n",
    "        for k in range(single_limits_num_bits[i][j]):\n",
    "            aux_term1 += binary_coeff_vector[k]* globals()[\"x\" + str(i + 1) + str(j + 1) + str(k+1)]\n",
    "        cost_fn += aux_term1*cost_factor_matrix[i][j]\n",
    "\n",
    "cost_fn /= max_binary_value\n",
    "\n",
    "#for normalisation and scaling\n",
    "cost_fn*=1000 "
   ]
  },
  {
   "cell_type": "code",
   "execution_count": 7,
   "id": "consolidated-festival",
   "metadata": {},
   "outputs": [],
   "source": [
    "# Consistency constraint \n",
    "\n",
    "consistency_penalty_term = 0\n",
    "\n",
    "#slack part\n",
    "consistency_penalty_slack = []\n",
    "\n",
    "for i in consistency_slack_variables_arr:\n",
    "    aux_term = 0\n",
    "    for exponent,j in enumerate(i):\n",
    "        aux_term += (2**exponent)*j\n",
    "    consistency_penalty_slack.append(aux_term)\n",
    "\n",
    "\n",
    "#decision variable part\n",
    "for i in range(n_assets):\n",
    "    aux_term2 = 0\n",
    "    for j in range(n_accounts):\n",
    "        aux_term1 = 0\n",
    "        for k in range(single_limits_num_bits[i][j]):\n",
    "            aux_term1 += binary_coeff_vector[k]* globals()[\"x\" + str(i + 1) + str(j + 1) + str(k+1)]\n",
    "        aux_term2 += (aux_term1)\n",
    "    consistency_penalty_term += (aux_term2 - max_binary_value + consistency_penalty_slack[i])**2\n",
    "\n",
    "#Normalising\n",
    "consistency_penalty_term /= (2**((n_binary - 1)*2))\n",
    "#Scaling\n",
    "consistency_penalty_term *= 10000"
   ]
  },
  {
   "cell_type": "code",
   "execution_count": 8,
   "id": "minus-castle",
   "metadata": {},
   "outputs": [],
   "source": [
    "#Exposure constraint\n",
    "\n",
    "exposure_penalty_term = 0\n",
    "\n",
    "for j in range(n_accounts):\n",
    "    aux_term2 = 0\n",
    "    for i in range(n_assets):\n",
    "        aux_term1 = 0\n",
    "        for k in range(single_limits_num_bits[i][j]):\n",
    "            aux_term1 += binary_coeff_vector[k]* globals()[\"x\" + str(i + 1) + str(j + 1) + str(k+1)]\n",
    "        aux_term2 += (aux_term1*asset_quantity[i]*asset_value[i]*haircuts[i][j])/max_binary_value\n",
    "    exposure_penalty_term += (aux_term2 - account_exposure[j]) **2 \n",
    "\n",
    "#normalising\n",
    "exposure_penalty_term /= ((max(asset_quantity*asset_value)*64/max_binary_value))**2\n",
    "#scaling\n",
    "exposure_penalty_term *= 1e8\n",
    "\n"
   ]
  },
  {
   "cell_type": "code",
   "execution_count": 9,
   "id": "swedish-kitchen",
   "metadata": {},
   "outputs": [],
   "source": [
    "\n",
    "\n",
    "#Final QUBO\n",
    "QUBO_equation =lambda_cost_fn*cost_fn + lambda_consistency*consistency_penalty_term  + lambda_exposure*exposure_penalty_term \n",
    "\n",
    "#compile model\n",
    "model = QUBO_equation.compile()\n",
    "qubo, offset = model.to_qubo()\n"
   ]
  },
  {
   "attachments": {},
   "cell_type": "markdown",
   "id": "e0520251",
   "metadata": {},
   "source": [
    "# Run Solver"
   ]
  },
  {
   "cell_type": "code",
   "execution_count": 10,
   "id": "electric-panic",
   "metadata": {},
   "outputs": [
    {
     "name": "stdout",
     "output_type": "stream",
     "text": [
      "The minimum energy is: 646948.1852855533\n"
     ]
    }
   ],
   "source": [
    "#Run Solver\n",
    "\n",
    "bqm = model.to_bqm()\n",
    "sa = neal.SimulatedAnnealingSampler()\n",
    "num_reads = 100\n",
    "num_sweeps = 1000\n",
    "sampleset = sa.sample(bqm, num_reads=num_reads, num_sweeps=num_sweeps)\n",
    "\n",
    "#Get best sample\n",
    "decoded_samples = model.decode_sampleset(sampleset)\n",
    "best_sample = min(decoded_samples, key=lambda x: x.energy)\n",
    "results = best_sample.sample\n",
    "pprint(f\"The minimum energy is: {best_sample.energy}\")\n"
   ]
  },
  {
   "attachments": {},
   "cell_type": "markdown",
   "id": "710dafdd",
   "metadata": {},
   "source": [
    "# Verify Results"
   ]
  },
  {
   "cell_type": "code",
   "execution_count": 11,
   "id": "geological-horror",
   "metadata": {},
   "outputs": [
    {
     "name": "stdout",
     "output_type": "stream",
     "text": [
      "=====Each Individual Allocation Percentage=====\n",
      "Assign 5.51% of asset 1 to account 1\n",
      "Assign 9.45% of asset 1 to account 2\n",
      "Assign 0.00% of asset 1 to account 3\n",
      "Assign 0.00% of asset 1 to account 4\n",
      "Assign 0.00% of asset 1 to account 5\n",
      "Assign 37.01% of asset 2 to account 1\n",
      "Assign 11.81% of asset 2 to account 2\n",
      "Assign 2.36% of asset 2 to account 3\n",
      "Assign 0.00% of asset 2 to account 4\n",
      "Assign 1.57% of asset 2 to account 5\n",
      "Assign 0.00% of asset 3 to account 1\n",
      "Assign 0.00% of asset 3 to account 2\n",
      "Assign 0.00% of asset 3 to account 3\n",
      "Assign 0.00% of asset 3 to account 4\n",
      "Assign 0.00% of asset 3 to account 5\n",
      "Assign 37.01% of asset 4 to account 1\n",
      "Assign 11.81% of asset 4 to account 2\n",
      "Assign 0.00% of asset 4 to account 3\n",
      "Assign 0.00% of asset 4 to account 4\n",
      "Assign 0.00% of asset 4 to account 5\n",
      "Assign 3.94% of asset 5 to account 1\n",
      "Assign 11.81% of asset 5 to account 2\n",
      "Assign 18.11% of asset 5 to account 3\n",
      "Assign 1.57% of asset 5 to account 4\n",
      "Assign 2.36% of asset 5 to account 5\n",
      "Assign 0.00% of asset 6 to account 1\n",
      "Assign 5.51% of asset 6 to account 2\n",
      "Assign 0.79% of asset 6 to account 3\n",
      "Assign 0.79% of asset 6 to account 4\n",
      "Assign 0.00% of asset 6 to account 5\n",
      "Assign 0.00% of asset 7 to account 1\n",
      "Assign 0.00% of asset 7 to account 2\n",
      "Assign 0.00% of asset 7 to account 3\n",
      "Assign 0.00% of asset 7 to account 4\n",
      "Assign 0.00% of asset 7 to account 5\n",
      "Assign 0.00% of asset 8 to account 1\n",
      "Assign 3.15% of asset 8 to account 2\n",
      "Assign 11.81% of asset 8 to account 3\n",
      "Assign 1.57% of asset 8 to account 4\n",
      "Assign 40.16% of asset 8 to account 5\n",
      "Assign 0.00% of asset 9 to account 1\n",
      "Assign 0.00% of asset 9 to account 2\n",
      "Assign 8.66% of asset 9 to account 3\n",
      "Assign 0.00% of asset 9 to account 4\n",
      "Assign 0.00% of asset 9 to account 5\n",
      "Assign 0.00% of asset 10 to account 1\n",
      "Assign 0.00% of asset 10 to account 2\n",
      "Assign 0.00% of asset 10 to account 3\n",
      "Assign 0.00% of asset 10 to account 4\n",
      "Assign 0.00% of asset 10 to account 5\n"
     ]
    }
   ],
   "source": [
    "\n",
    "exposure_solution = np.zeros(shape = (n_accounts))\n",
    "allocation_solution = np.zeros(shape = (n_assets))\n",
    "\n",
    "print(\"=====Each Individual Allocation Percentage=====\")\n",
    "\n",
    "for i in range(n_assets):\n",
    "    asset = 0\n",
    "    for j in range(n_accounts):\n",
    "        decimal = 0\n",
    "        for k in range(single_limits_num_bits[i][j]):\n",
    "            decimal +=binary_coeff_vector[k]*results.get(\"x\" + str(i + 1) + str(j + 1) + str(k+1))\n",
    "        asset += decimal*(100/max_binary_value)\n",
    "        print(f\"Assign {decimal*(100/max_binary_value):0.2f}% of asset {i+1} to account {j+1}\")\n",
    "        exposure_solution[j] += (decimal /max_binary_value) * asset_value[i] * asset_quantity[i]*haircuts[i][j]\n",
    "    allocation_solution[i] = asset\n"
   ]
  },
  {
   "cell_type": "code",
   "execution_count": 12,
   "id": "frank-cassette",
   "metadata": {},
   "outputs": [
    {
     "name": "stdout",
     "output_type": "stream",
     "text": [
      "====Validation for Consistency====\n",
      "14.96% of asset 1 posted\n",
      "52.76% of asset 2 posted\n",
      "0.00% of asset 3 posted\n",
      "48.82% of asset 4 posted\n",
      "37.80% of asset 5 posted\n",
      "7.09% of asset 6 posted\n",
      "0.00% of asset 7 posted\n",
      "56.69% of asset 8 posted\n",
      "8.66% of asset 9 posted\n",
      "0.00% of asset 10 posted\n"
     ]
    }
   ],
   "source": [
    "print(\"====Validation for Consistency====\")\n",
    "for i in range(n_assets):\n",
    "    print(f\"{allocation_solution[i]:0.2f}% of asset {i+1} posted\")  "
   ]
  },
  {
   "cell_type": "code",
   "execution_count": 13,
   "id": "clean-harbor",
   "metadata": {},
   "outputs": [
    {
     "name": "stdout",
     "output_type": "stream",
     "text": [
      "=====Validation for Exposure======\n",
      "$815,162.7112894212 of collateral posted, $824,000.0 required\n",
      "-1.07%\n",
      "$663,815.8496806776 of collateral posted, $669,292.0 required\n",
      "-0.82%\n",
      "$536,463.8232428432 of collateral posted, $548,600.0 required\n",
      "-2.21%\n",
      "$68,706.82793528514 of collateral posted, $64,844.52 required\n",
      "5.96%\n",
      "$465,692.72465245664 of collateral posted, $472,000.0 required\n",
      "-1.34%\n"
     ]
    }
   ],
   "source": [
    "print(\"=====Validation for Exposure======\")\n",
    "for i in range(n_accounts):\n",
    "    print(f\"${exposure_solution[i]:,} of collateral posted, ${account_exposure[i]:,} required\") \n",
    "    print(f\"{(exposure_solution[i]/account_exposure[i] - 1) *100.:0.2f}%\")"
   ]
  },
  {
   "cell_type": "code",
   "execution_count": 15,
   "id": "fe8b2e26",
   "metadata": {},
   "outputs": [
    {
     "name": "stdout",
     "output_type": "stream",
     "text": [
      "===Validation of Single limits =====\n",
      "Amount allocated: 10536.69. Single Limit: 20997.72\n",
      "Constraint Satisfied?: True\n",
      "Amount allocated: 18062.90. Single Limit: 153498.10\n",
      "Constraint Satisfied?: True\n",
      "Amount allocated: 0.00. Single Limit: 27959.58\n",
      "Constraint Satisfied?: True\n",
      "Amount allocated: 0.00. Single Limit: 4957.23\n",
      "Constraint Satisfied?: True\n",
      "Amount allocated: 0.00. Single Limit: 12027.82\n",
      "Constraint Satisfied?: True\n",
      "Amount allocated: 83447.20. Single Limit: 225485.00\n",
      "Constraint Satisfied?: True\n",
      "Amount allocated: 26632.09. Single Limit: 47932.09\n",
      "Constraint Satisfied?: True\n",
      "Amount allocated: 5326.42. Single Limit: 8730.80\n",
      "Constraint Satisfied?: True\n",
      "Amount allocated: 0.00. Single Limit: 5159.90\n",
      "Constraint Satisfied?: True\n",
      "Amount allocated: 3550.94. Single Limit: 225485.00\n",
      "Constraint Satisfied?: True\n",
      "Amount allocated: 0.00. Single Limit: 634872.00\n",
      "Constraint Satisfied?: True\n",
      "Amount allocated: 0.00. Single Limit: 789538.89\n",
      "Constraint Satisfied?: True\n",
      "Amount allocated: 0.00. Single Limit: 143814.01\n",
      "Constraint Satisfied?: True\n",
      "Amount allocated: 0.00. Single Limit: 634872.00\n",
      "Constraint Satisfied?: True\n",
      "Amount allocated: 0.00. Single Limit: 634872.00\n",
      "Constraint Satisfied?: True\n",
      "Amount allocated: 21795.42. Single Limit: 58894.00\n",
      "Constraint Satisfied?: True\n",
      "Amount allocated: 6955.98. Single Limit: 33420.14\n",
      "Constraint Satisfied?: True\n",
      "Amount allocated: 0.00. Single Limit: 6087.46\n",
      "Constraint Satisfied?: True\n",
      "Amount allocated: 0.00. Single Limit: 35976.87\n",
      "Constraint Satisfied?: True\n",
      "Amount allocated: 0.00. Single Limit: 58894.00\n",
      "Constraint Satisfied?: True\n",
      "Amount allocated: 1353.98. Single Limit: 6623.80\n",
      "Constraint Satisfied?: True\n",
      "Amount allocated: 4061.93. Single Limit: 48421.52\n",
      "Constraint Satisfied?: True\n",
      "Amount allocated: 6228.29. Single Limit: 8819.95\n",
      "Constraint Satisfied?: True\n",
      "Amount allocated: 541.59. Single Limit: 1563.78\n",
      "Constraint Satisfied?: True\n",
      "Amount allocated: 812.39. Single Limit: 3794.22\n",
      "Constraint Satisfied?: True\n",
      "Amount allocated: 0.00. Single Limit: 163510.24\n",
      "Constraint Satisfied?: True\n",
      "Amount allocated: 603720.79. Single Limit: 1195297.19\n",
      "Constraint Satisfied?: True\n",
      "Amount allocated: 86245.83. Single Limit: 217722.62\n",
      "Constraint Satisfied?: True\n",
      "Amount allocated: 86245.83. Single Limit: 386022.21\n",
      "Constraint Satisfied?: True\n",
      "Amount allocated: 0.00. Single Limit: 93661.21\n",
      "Constraint Satisfied?: True\n",
      "Amount allocated: 0.00. Single Limit: 557999.98\n",
      "Constraint Satisfied?: True\n",
      "Amount allocated: 0.00. Single Limit: 185999.99\n",
      "Constraint Satisfied?: True\n",
      "Amount allocated: 0.00. Single Limit: 122826.34\n",
      "Constraint Satisfied?: True\n",
      "Amount allocated: 0.00. Single Limit: 92915.67\n",
      "Constraint Satisfied?: True\n",
      "Amount allocated: 0.00. Single Limit: 929999.96\n",
      "Constraint Satisfied?: True\n",
      "Amount allocated: 0.00. Single Limit: 3576000.00\n",
      "Constraint Satisfied?: True\n",
      "Amount allocated: 187716.54. Single Limit: 1192000.00\n",
      "Constraint Satisfied?: True\n",
      "Amount allocated: 703937.01. Single Limit: 783709.02\n",
      "Constraint Satisfied?: True\n",
      "Amount allocated: 93858.27. Single Limit: 592860.20\n",
      "Constraint Satisfied?: True\n",
      "Amount allocated: 2393385.83. Single Limit: 5960000.00\n",
      "Constraint Satisfied?: True\n",
      "Amount allocated: 0.00. Single Limit: 259800.00\n",
      "Constraint Satisfied?: True\n",
      "Amount allocated: 0.00. Single Limit: 86600.00\n",
      "Constraint Satisfied?: True\n",
      "Amount allocated: 37503.94. Single Limit: 433000.00\n",
      "Constraint Satisfied?: True\n",
      "Amount allocated: 0.00. Single Limit: 5928602.02\n",
      "Constraint Satisfied?: True\n",
      "Amount allocated: 0.00. Single Limit: 433000.00\n",
      "Constraint Satisfied?: True\n",
      "Amount allocated: 0.00. Single Limit: 62400000.00\n",
      "Constraint Satisfied?: True\n",
      "Amount allocated: 0.00. Single Limit: 2080000.00\n",
      "Constraint Satisfied?: True\n",
      "Amount allocated: 0.00. Single Limit: 1499491.33\n",
      "Constraint Satisfied?: True\n",
      "Amount allocated: 0.00. Single Limit: 1134335.20\n",
      "Constraint Satisfied?: True\n",
      "Amount allocated: 0.00. Single Limit: 10400000.00\n",
      "Constraint Satisfied?: True\n"
     ]
    }
   ],
   "source": [
    "print(\"===Validation of Single limits =====\")\n",
    "for i in range(n_assets):\n",
    "    for j in range(n_accounts):\n",
    "        decimal = 0\n",
    "        for k in range(single_limits_num_bits[i][j]):\n",
    "            decimal +=(2**k)*results.get(\"x\" + str(i + 1) + str(j + 1) + str(k+1))\n",
    "        allocation = (decimal/max_binary_value)*asset_quantity[i] \n",
    "        print(f\"Amount allocated: {allocation:0.2f}. Single Limit: {single_limits[i][j]:0.2f}\")\n",
    "        print(f\"Constraint Satisfied?: {allocation <= single_limits[i][j]}\")\n",
    "        "
   ]
  },
  {
   "attachments": {},
   "cell_type": "markdown",
   "id": "de9df13c",
   "metadata": {},
   "source": [
    "# Export to csv"
   ]
  },
  {
   "cell_type": "code",
   "execution_count": 15,
   "id": "narrative-empty",
   "metadata": {},
   "outputs": [
    {
     "name": "stdout",
     "output_type": "stream",
     "text": [
      "Objective value: 0.6354330708661418\n"
     ]
    }
   ],
   "source": [
    "#Saving to an array\n",
    "Q_value_balanced_py_qubo = np.zeros(shape=(n_assets,n_accounts))\n",
    "\n",
    "for i in range(n_assets):\n",
    "    for j in range(n_accounts):\n",
    "        decimal = 0\n",
    "        for k in range(single_limits_num_bits[i][j]):\n",
    "            decimal +=binary_coeff_vector[k]*results.get(\"x\" + str(i + 1) + str(j + 1) + str(k+1))\n",
    "        Q_value_balanced_py_qubo[i][j] = decimal/max_binary_value\n",
    "\n",
    "pprint(f\"Objective value: {sum(sum(Q_value_balanced_py_qubo*cost_factor_matrix))}\")"
   ]
  },
  {
   "cell_type": "code",
   "execution_count": null,
   "id": "fdc1ec52",
   "metadata": {},
   "outputs": [],
   "source": [
    "#Uncomment line below to save file to csv\n",
    "\n",
    "#pd.DataFrame(Q_value_balanced_py_qubo).to_csv(\"Q_value_balanced_py_qubo_no_single_lim1.csv\", header=None, index=None)\n"
   ]
  }
 ],
 "metadata": {
  "kernelspec": {
   "display_name": "Python 3",
   "language": "python",
   "name": "python3"
  },
  "language_info": {
   "codemirror_mode": {
    "name": "ipython",
    "version": 3
   },
   "file_extension": ".py",
   "mimetype": "text/x-python",
   "name": "python",
   "nbconvert_exporter": "python",
   "pygments_lexer": "ipython3",
   "version": "3.11.2"
  },
  "vscode": {
   "interpreter": {
    "hash": "970cdd760a6554ff9d7b1b410a24af8e9d54e51044eda066095b1481daf8ae7f"
   }
  }
 },
 "nbformat": 4,
 "nbformat_minor": 5
}
