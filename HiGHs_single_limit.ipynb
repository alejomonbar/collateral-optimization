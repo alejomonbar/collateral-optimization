{
 "cells": [
  {
   "cell_type": "code",
   "execution_count": 1,
   "id": "hired-windsor",
   "metadata": {},
   "outputs": [],
   "source": [
    "using JuMP,HiGHS,LaTeXStrings, GLPK, StatsPlots, Plots, DelimitedFiles"
   ]
  },
  {
   "attachments": {},
   "cell_type": "markdown",
   "id": "c333e7d8",
   "metadata": {},
   "source": [
    "# Input Data"
   ]
  },
  {
   "cell_type": "code",
   "execution_count": 2,
   "id": "understanding-founder",
   "metadata": {},
   "outputs": [
    {
     "data": {
      "text/plain": [
       "10×5 Matrix{Float64}:\n",
       "  20997.7            1.53498e5   27959.6          4957.23        12027.8\n",
       " 225485.0        47932.1          8730.8          5159.9        225485.0\n",
       " 634872.0            7.89539e5  143814.0        634872.0        634872.0\n",
       "  58894.0        33420.1          6087.46        35976.9         58894.0\n",
       "   6623.8        48421.5          8819.95         1563.78         3794.22\n",
       "      1.6351e5       1.1953e6        2.17723e5       3.86022e5   93661.2\n",
       " 558000.0       186000.0             1.22826e5   92915.7        930000.0\n",
       "      3.576e6        1.192e6    783709.0             5.9286e5        5.96e6\n",
       " 259800.0        86600.0        433000.0             5.9286e6   433000.0\n",
       "      6.24e7         2.08e6          1.49949e6       1.13434e6       1.04e7"
      ]
     },
     "metadata": {},
     "output_type": "display_data"
    }
   ],
   "source": [
    "#Input data\n",
    "\n",
    "asset_quantity = readdlm(\"data/sample_asset_quantity.csv\", ',', Float64)\n",
    "asset_tiers = readdlm(\"data/sample_asset_tiers.csv\", ',', Float64)\n",
    "asset_value = readdlm(\"data/sample_asset_value.csv\", ',', Float64)\n",
    "\n",
    "account_exposure = readdlm(\"data/sample_account_exposure.csv\", ',', Float64)\n",
    "account_durations = readdlm(\"data/sample_account_duration.csv\", ',', Float64)\n",
    "\n",
    "\n",
    "haircuts = readdlm(\"data/sample_haircuts.csv\", ',', Float64)/100\n",
    "\n",
    "\n",
    "single_limits = readdlm(\"data/sample_single_limits.csv\", ',', Float64)"
   ]
  },
  {
   "cell_type": "code",
   "execution_count": 3,
   "id": "theoretical-finnish",
   "metadata": {},
   "outputs": [
    {
     "name": "stdout",
     "output_type": "stream",
     "text": [
      "["
     ]
    },
    {
     "name": "stdout",
     "output_type": "stream",
     "text": [
      "0.2"
     ]
    },
    {
     "name": "stdout",
     "output_type": "stream",
     "text": [
      " 0.2 0.8 0.8 0.8; 0.2 0.2 0.8 0.8 0.8; 0.2 0.2 0.8"
     ]
    },
    {
     "name": "stdout",
     "output_type": "stream",
     "text": [
      " 0.8 0.8; 0.2 0.2 0.8 0.8 0.8; 0.5 0.5 0.5 0.5 0.5; 0.5 "
     ]
    },
    {
     "name": "stdout",
     "output_type": "stream",
     "text": [
      "0.5 0.5 0.5 0.5; 0.8 0.8 0.2 0.2 0.2; 0.8 0.8 0.2 0.2 0.2; 0.8 0.8 "
     ]
    },
    {
     "name": "stdout",
     "output_type": "stream",
     "text": [
      "0.2 0.2 0.2; 0.8 0.8 0.2 0.2 0.2]"
     ]
    }
   ],
   "source": [
    "# Auxillary variables\n",
    "\n",
    "tier_set = [0.2, 0.5, 0.8]\n",
    "\n",
    "n_assets = length(asset_tiers)\n",
    "\n",
    "n_accounts = length(account_durations)\n",
    "\n",
    "\n",
    "\n",
    "cost_factor_matrix = Array{Float64}(undef, length(asset_tiers), length(account_durations))\n",
    "\n",
    "for i in 1:n_assets\n",
    "    for j in 1:n_accounts\n",
    "        cost_factor_matrix[i,j] = abs(asset_tiers[i] - account_durations[j])\n",
    "    end\n",
    "end\n",
    "\n",
    "cost_factor_matrix = round.(cost_factor_matrix, digits = 2);\n",
    "\n",
    "print(cost_factor_matrix)\n",
    "\n",
    "\n"
   ]
  },
  {
   "cell_type": "markdown",
   "id": "9afbccc3",
   "metadata": {},
   "source": [
    "# Constructing JuMP model"
   ]
  },
  {
   "cell_type": "code",
   "execution_count": 4,
   "id": "revolutionary-begin",
   "metadata": {},
   "outputs": [
    {
     "name": "stdout",
     "output_type": "stream",
     "text": [
      "Min 0.2 Q[1,1] + 0.2 Q[1,2] + 0.8 Q[1,3] + 0.8 Q[1,4] + 0.8 Q[1,5] + 0.2 Q[2,1] + 0.2 Q[2,2] + 0.8 Q[2,3] + 0.8 Q[2,4] + 0.8 Q[2,5] + 0.2 Q[3,1] + 0.2 Q[3,2] + 0.8 Q[3,3] + 0.8 Q[3,4] + 0.8 Q[3,5] + 0.2 Q[4,1] + 0.2 Q[4,2] + 0.8 Q[4,3] + 0.8 Q[4,4] + 0.8 Q[4,5] + 0.5 Q[5,1] + 0.5 Q[5,2] + 0.5 Q[5,3] + 0.5 Q[5,4] + 0.5 Q[5,5] + 0.5 Q[6,1] + 0.5 Q[6,2] + 0.5 Q[6,3] + 0.5 Q[6,4] + 0.5 Q[6,5] + 0.8 Q[7,1] + 0.8 Q[7,2] + 0.2 Q[7,3] + 0.2 Q[7,4] + 0.2 Q[7,5] + 0.8 Q[8,1] + 0.8 Q[8,2] + 0.2 Q[8,3] + 0.2 Q[8,4] + 0.2 Q[8,5] + 0.8 Q[9,1] + 0.8 Q[9,2] + 0.2 Q[9,3] + 0.2 Q[9,4] + 0.2 Q[9,5] + 0.8 Q[10,1] + 0.8 Q[10,2] + 0.2 Q[10,3] + 0.2 Q[10,4] + 0.2 Q[10,5]\n",
      "Subject to"
     ]
    },
    {
     "name": "stdout",
     "output_type": "stream",
     "text": [
      "\n",
      " 337580.7187721691 Q[1,1] + 1.416835560987015e6 Q[2,1] + 242181.403673832 Q[3,1] + 530751.1039390559 Q[4,1] + 1.9252052101651952e6 Q[5,1] + 2.48391407769804e6 Q[6,1] + 98653.12350377608 Q[7,1] + 990856.6525174977 Q[8,1] + 146168.41998874999 Q[9,1] + 90366.7778 Q[10,1] >= 824000.0\n",
      " 340990.62502580293 Q[1,2] + 1.416835560987015e6 Q[2,2] + 242181.403673832 Q[3,2] + 482501.0035857849 Q[4,2] + 1.9991746731706962e6 Q[5,2] + 2.509004118911999e6 Q[6,2] + 103845.39316186956 Q[7,2] + 1.0430070026499976e6 Q[8,2] + 153861.494725 Q[9,2] + 90593.26095419283 Q[10,2] >= 669292.0\n",
      " 340990.62502580293 Q[1,3] + 1.288032328182894e6 Q[2,3] + 242181.403673832 Q[3,3] + 482501.0035857849 Q[4,3] + 1.9446517274590374e6 Q[5,3] + 2.509004118911999e6 Q[6,3] + 101809.20898609381 Q[7,3] + 1.0225558849898352e6 Q[8,3] + 153861.494725 Q[9,3] + 93257.76863099477 Q[10,3] >= 548600.0\n",
      " 353858.19577229326 Q[1,4] + 1.2764284333203589e6 Q[2,4] + 242181.403673832 Q[3,4] + 478154.14769236505 Q[4,4] + 2.0180348114616266e6 Q[5,4] + 2.603683519557963e6 Q[6,4] + 103845.39316186956 Q[7,4] + 1.0430070026499976e6 Q[8,4] + 153861.494725 Q[9,4] + 90593.26095419283 Q[10,4] >= 64844.52\n",
      " 337580.7187721691 Q[1,5] + 1.416835560987015e6 Q[2,5] + 242181.403673832 Q[3,5] + 530751.1039390559 Q[4,5] + 1.9252052101651952e6 Q[5,5] + 2.48391407769804e6 Q[6,5] + 98653.12350377608 Q[7,5] + 990856.6525174977 Q[8,5] + 146168.41998874999 Q[9,5] + 90366.7778 Q[10,5] >= 472000.0\n",
      " Q[1,1] + Q[1,2] + Q[1,3] + Q[1,4] + Q[1,5] <= 1.0\n",
      " Q[2,1] + Q[2,2] + Q[2,3] + Q[2,4] + Q[2,5] <= 1.0\n",
      " Q[3,1] + Q[3,2] + Q[3,3] + Q[3,4] + Q[3,5] <= 1.0\n",
      " Q[4,1] + Q[4,2] + Q[4,3] + Q[4,4] + Q[4,5] <= 1.0\n",
      " Q[5,1] + Q[5,2] + Q[5,3] + Q[5,4] + Q[5,5] <= 1.0\n",
      " Q[6,1] + Q[6,2] + Q[6,3] + Q[6,4] + Q[6,5] <= 1.0\n",
      " Q[7,1] + Q[7,2] + Q[7,3] + Q[7,4] + Q[7,5] <= 1.0\n",
      " Q[8,1] + Q[8,2] + Q[8,3] + Q[8,4] + Q[8,5] <= 1.0\n",
      " Q[9,1] + Q[9,2] + Q[9,3] + Q[9,4] + Q[9,5] <= 1.0\n",
      " Q[10,1] + Q[10,2] + Q[10,3] + Q[10,4] + Q[10,5] <= 1.0\n",
      " 191165.7 Q[1,1] <= 20997.71628480929\n",
      " "
     ]
    },
    {
     "name": "stdout",
     "output_type": "stream",
     "text": [
      "225485 Q[2,1] <= 225485.0\n",
      " 634872 Q[3,1] <= 634872.0\n",
      " 58894 Q[4,1] <= 58894.0\n",
      " 34391 Q[5,1] <= 6623.804430129181\n",
      " 10953220 Q[6,1] <= 163510.24427398635\n",
      " 929999.959 Q[7,1] <= 557999.9754\n",
      " 5.959999998e6 Q[8,1] <= 3.5759999987999997e6\n",
      " 433000 Q[9,1] <= 259800.0\n",
      " 1040000 Q[10,1] <= 6.24e7\n",
      " 191165.7 Q[1,2] <= 153498.09678305002"
     ]
    },
    {
     "name": "stdout",
     "output_type": "stream",
     "text": [
      "\n",
      " 225485 Q[2,2] <= 47932.08883865839\n",
      " 634872 Q[3,2] <= 789538.8947300112\n",
      " 58894 Q[4,2] <= 33420.1422097028\n",
      " 34391 Q[5,2] <= 48421.52164059488\n",
      " 10953220 Q[6,2] <= 1.1952971913781841e6\n",
      " 929999.959 Q[7,2] <= 185999.99180000002\n",
      " 5.959999998e6 Q[8,2] <= 1.1919999996e6\n",
      " 433000 Q[9,2] <= 86600.0\n",
      " 1040000 Q[10,2] <= 2.08e6\n",
      " 191165.7 Q[1,3] <= 27959.580470500918\n",
      " 225485 Q[2,3] <= 8730.79942416364\n",
      " 634872 Q[3,3] <= 143814.0063260494\n",
      " 58894 Q[4,3] <= 6087.4575973957735\n",
      " 34391 Q[5,3] <= 8819.949297011817\n",
      " 10953220 Q[6,3] <= 217722.62138036144\n",
      " "
     ]
    },
    {
     "name": "stdout",
     "output_type": "stream",
     "text": [
      "929999.959 Q[7,3] <= 122826.33874574634\n",
      " 5.959999998e6 Q[8,3] <= 783709.023667984\n",
      " 433000 Q[9,3] <= 433000.0\n",
      " 1040000 Q[10,3] <= 1.4994913318686462e6\n",
      " 191165.7 Q[1,4] <= 4957.233617419813\n",
      " 225485 Q[2,4] <= 5159.902459680712\n",
      " 634872 Q[3,4] <= 634872.0\n",
      " 58894 Q[4,4] <= 35976.87440060902\n",
      " 34391 Q[5,4] <= 1563.7770103601952\n",
      " 10953220 Q[6,4] <= 386022.2077073808\n",
      " 929999.959 Q[7,4] <= 92915.66873438218\n",
      " 5.959999998e6 Q[8,4] <= 592860.2022243565\n",
      " 433000 Q[9,4] <= 5.928602022243565e6\n",
      " 1040000 Q[10,4] <= 1.1343352027319933e6\n",
      " 191165.7 Q[1,5] <= 12027.818066055808\n",
      " 225485 Q[2,5] <= 225485.0\n",
      " 634872 Q[3,5] <= 634872.0\n",
      " 58894 Q[4,5] <= 58894.0\n",
      " 34391 Q[5,5] <= 3794.218071627395\n",
      " 10953220 Q[6,5] <= 93661.20788509898\n",
      " 929999.959 Q[7,5] <= 929999.959"
     ]
    },
    {
     "name": "stdout",
     "output_type": "stream",
     "text": [
      "\n",
      " 5.959999998e6 Q[8,5] <= 5.959999998e6\n",
      " 433000 Q[9,5] <= 433000.0\n",
      " 1040000 Q[10,5] <= 1.04e7\n",
      " Q[1,1] >= 0.0\n",
      " Q[2,1] >= 0.0\n",
      " Q[3,1] >= 0.0\n",
      " Q[4,1] >= 0.0\n",
      " Q[5,1] >= 0.0\n",
      " Q[6,1] >= 0.0\n",
      " Q[7,1] >= 0.0\n",
      " Q[8,1] >= 0.0\n",
      " "
     ]
    },
    {
     "name": "stdout",
     "output_type": "stream",
     "text": [
      "Q[9,1] >= 0.0\n",
      " Q[10,1] >= 0.0\n",
      " Q[1,2] >= 0.0\n",
      " Q[2,2] >= 0.0"
     ]
    },
    {
     "name": "stdout",
     "output_type": "stream",
     "text": [
      "\n",
      " Q[3,2] >= 0.0\n",
      " Q[4,2] >= 0.0\n",
      " Q[5,2] >= 0.0"
     ]
    },
    {
     "name": "stdout",
     "output_type": "stream",
     "text": [
      "\n",
      " Q[6,2] >= 0.0\n"
     ]
    },
    {
     "name": "stdout",
     "output_type": "stream",
     "text": [
      " Q[7,2] >= 0.0\n",
      " "
     ]
    },
    {
     "name": "stdout",
     "output_type": "stream",
     "text": [
      "Q[8,2] >= 0.0\n"
     ]
    },
    {
     "name": "stdout",
     "output_type": "stream",
     "text": [
      " Q[9,2] >= 0.0\n"
     ]
    },
    {
     "name": "stdout",
     "output_type": "stream",
     "text": [
      " Q[10,2] >= 0.0"
     ]
    },
    {
     "name": "stdout",
     "output_type": "stream",
     "text": [
      "\n",
      " Q[1,3] >= 0.0\n",
      " Q[2,3] >= 0.0"
     ]
    },
    {
     "name": "stdout",
     "output_type": "stream",
     "text": [
      "\n",
      " Q[3,3] >= 0.0\n",
      " Q[4,3] >= 0.0"
     ]
    },
    {
     "name": "stdout",
     "output_type": "stream",
     "text": [
      "\n",
      " Q[5,3] >= 0.0\n",
      " Q[6,3] >= 0.0\n",
      " Q[7,3] >= 0.0"
     ]
    },
    {
     "name": "stdout",
     "output_type": "stream",
     "text": [
      "\n",
      " Q[8,3] >= 0.0\n",
      " Q[9,3] >= 0.0\n",
      " Q[10,3] >= 0.0\n",
      " "
     ]
    },
    {
     "name": "stdout",
     "output_type": "stream",
     "text": [
      "Q[1,4] >= 0.0\n"
     ]
    },
    {
     "name": "stdout",
     "output_type": "stream",
     "text": [
      " Q[2,4] >= 0.0"
     ]
    },
    {
     "name": "stdout",
     "output_type": "stream",
     "text": [
      "\n",
      " Q[3,4] >= 0.0\n"
     ]
    },
    {
     "name": "stdout",
     "output_type": "stream",
     "text": [
      " Q[4,4] >= 0.0\n"
     ]
    },
    {
     "name": "stdout",
     "output_type": "stream",
     "text": [
      " Q[5,4] >= 0.0\n",
      " Q[6,4] >= 0.0\n",
      " "
     ]
    },
    {
     "name": "stdout",
     "output_type": "stream",
     "text": [
      "Q[7,4] >= 0.0\n",
      " Q[8,4] >= 0.0"
     ]
    },
    {
     "name": "stdout",
     "output_type": "stream",
     "text": [
      "\n",
      " Q[9,4] >= 0.0\n"
     ]
    },
    {
     "name": "stdout",
     "output_type": "stream",
     "text": [
      " Q[10,4] >= 0.0\n",
      " Q[1,5] >= 0.0\n",
      " Q[2,5] >= 0.0\n",
      " Q[3,5] >= 0.0\n",
      " Q[4,5] >= 0.0\n",
      " Q[5,5] >= 0.0\n",
      " Q[6,5] >= 0.0"
     ]
    },
    {
     "name": "stdout",
     "output_type": "stream",
     "text": [
      "\n",
      " Q[7,5] >= 0.0\n",
      " Q[8,5] >= 0.0"
     ]
    },
    {
     "name": "stdout",
     "output_type": "stream",
     "text": [
      "\n",
      " Q[9,5] >= 0.0\n",
      " Q[10,5] >= 0.0\n",
      " "
     ]
    },
    {
     "name": "stdout",
     "output_type": "stream",
     "text": [
      "Q[1,1] <= 1.0\n",
      " Q[2,1] <= 1.0\n",
      " Q[3,1] <= 1.0\n"
     ]
    },
    {
     "name": "stdout",
     "output_type": "stream",
     "text": [
      " Q[4,1] <= 1.0\n",
      " Q[5,1] <= 1.0\n",
      " Q[6,1] <= 1.0\n",
      " Q[7,1] <= 1.0\n",
      " Q[8,1] <= 1.0\n",
      " Q[9,1] <= 1.0"
     ]
    },
    {
     "name": "stdout",
     "output_type": "stream",
     "text": [
      "\n",
      " "
     ]
    },
    {
     "name": "stdout",
     "output_type": "stream",
     "text": [
      "Q[10,1] <= 1.0\n"
     ]
    },
    {
     "name": "stdout",
     "output_type": "stream",
     "text": [
      " Q[1,2] <= 1.0"
     ]
    },
    {
     "name": "stdout",
     "output_type": "stream",
     "text": [
      "\n",
      " "
     ]
    },
    {
     "name": "stdout",
     "output_type": "stream",
     "text": [
      "Q[2,2] <= 1.0\n",
      " Q[3,2] <= 1.0"
     ]
    },
    {
     "name": "stdout",
     "output_type": "stream",
     "text": [
      "\n",
      " Q[4,2] <= 1.0\n",
      " Q[5,2] <= 1.0"
     ]
    },
    {
     "name": "stdout",
     "output_type": "stream",
     "text": [
      "\n",
      " Q[6,2] <= 1.0\n",
      " Q[7,2] <= 1.0"
     ]
    },
    {
     "name": "stdout",
     "output_type": "stream",
     "text": [
      "\n",
      " Q[8,2] <= 1.0\n",
      " Q[9,2] <= 1.0"
     ]
    },
    {
     "name": "stdout",
     "output_type": "stream",
     "text": [
      "\n",
      " Q[10,2] <= 1.0\n",
      " Q[1,3] <= 1.0\n"
     ]
    },
    {
     "name": "stdout",
     "output_type": "stream",
     "text": [
      " Q[2,3] <= 1.0"
     ]
    },
    {
     "name": "stdout",
     "output_type": "stream",
     "text": [
      "\n",
      " Q[3,3] <= 1.0\n",
      " Q[4,3] <= 1.0\n",
      " Q[5,3] <= 1.0\n",
      " Q[6,3] <= 1.0\n",
      " "
     ]
    },
    {
     "name": "stdout",
     "output_type": "stream",
     "text": [
      "Q[7,3] <= 1.0\n",
      " Q[8,3] <= 1.0\n",
      " Q[9,3] <= 1.0\n",
      " Q[10,3] <= 1.0\n",
      " Q[1,4] <= 1.0\n",
      " Q[2,4] <= 1.0\n",
      " Q[3,4] <= 1.0\n",
      " Q[4,4] <= 1.0\n",
      " Q[5,4] <= 1.0\n",
      " Q[6,4] <= 1.0\n",
      " "
     ]
    },
    {
     "name": "stdout",
     "output_type": "stream",
     "text": [
      "Q[7,4] <= 1.0\n",
      " Q[8,4] <= 1.0\n",
      " Q[9,4] <= 1.0\n",
      " Q[10,4] <= 1.0\n",
      " Q[1,5] <= 1.0\n"
     ]
    },
    {
     "name": "stdout",
     "output_type": "stream",
     "text": [
      " Q[2,5] <= 1.0\n",
      " Q[3,5] <= 1.0\n",
      " Q[4,5] <= 1.0\n",
      " Q[5,5] <= 1.0\n",
      " Q[6,5] <= 1.0\n",
      " Q[7,5] <= 1.0\n",
      " Q[8,5] <= 1.0\n",
      " Q[9,5] <= 1.0"
     ]
    },
    {
     "name": "stdout",
     "output_type": "stream",
     "text": [
      "\n",
      " Q[10,5] <= 1.0\n"
     ]
    }
   ],
   "source": [
    "\n",
    "model = Model()\n",
    "\n",
    "#Q \n",
    "@variable(model, Q[i = 1:n_assets, j = 1:n_accounts], lower_bound = 0, upper_bound = 1)\n",
    "\n",
    "\n",
    "#Consistency constraint\n",
    "@constraint(model,[i = 1:n_assets],sum(Q[i,j] for j in 1:n_accounts) <= 1)\n",
    "\n",
    "#Requirement constraint\n",
    "@constraint(model, [j = 1:n_accounts],\n",
    "    sum(Q[i,j]*asset_quantity[i]*asset_value[i]*haircuts[i,j] for i in 1:n_assets )\n",
    "    >= account_exposure[j])\n",
    "\n",
    "\n",
    "#Single Limits\n",
    "@constraint(model, [i = 1:n_assets, j =1:n_accounts], \n",
    "    Q[i,j]*asset_quantity[i] <= single_limits[i,j])\n",
    "\n",
    "#Objective_function\n",
    "@objective(model, Min, sum(Q[i,j]*cost_factor_matrix[i,j] for i in 1:n_assets,j in 1:n_accounts));\n",
    "print(model)"
   ]
  },
  {
   "attachments": {},
   "cell_type": "markdown",
   "id": "outdoor-cream",
   "metadata": {},
   "source": [
    "# Solving with HiGHs\n"
   ]
  },
  {
   "cell_type": "code",
   "execution_count": 5,
   "id": "first-monitor",
   "metadata": {},
   "outputs": [
    {
     "name": "stdout",
     "output_type": "stream",
     "text": [
      "Running HiGHS 1.4.2 [date: 1970-01-01, git hash: f797c1ab6]\n",
      "Copyright (c) 2022 ERGO-Code under MIT licence terms\n",
      "Presolving model\n",
      "15 rows, 50 cols, 100 nonzeros\n",
      "14 rows, 50 cols, 95 nonzeros\n",
      "Presolve : Reductions: rows 14(-51); columns 50(-0); elements 95(-55)\n",
      "Solving the presolved LP\n",
      "Using EKK dual simplex solver - serial\n",
      "  Iteration        Objective     Infeasibilities num(sum)\n",
      "          0     0.0000000000e+00 Pr: 5(20146.4) 1s\n",
      "          6     4.7458912088e-01 Pr: 0(0); Du: 0(3.59503e-08) 1s\n",
      "Using EKK primal simplex solver\n",
      "  Iteration        Objective     Infeasibilities num(sum)\n",
      "          6     4.7458912088e-01 Pr: 0(0); Du: 1(0.000294505) 1s\n",
      "          7     4.7457081130e-01 Pr: 0(0) 1s\n",
      "Solving the original LP from the solution after postsolve\n",
      "Model   status      : Optimal\n",
      "Simplex   iterations: 7\n",
      "Objective value     :  4.7457081130e-01\n",
      "HiGHS run time      :          1.23\n"
     ]
    }
   ],
   "source": [
    "set_optimizer(model, HiGHS.Optimizer)\n",
    "set_optimizer_attribute(model, \"solver\", \"simplex\")\n",
    "optimize!(model)"
   ]
  },
  {
   "cell_type": "code",
   "execution_count": 6,
   "id": "round-skiing",
   "metadata": {},
   "outputs": [
    {
     "name": "stdout",
     "output_type": "stream",
     "text": [
      "Objective value is 0.4745708112951061\n"
     ]
    }
   ],
   "source": [
    "\n",
    "println(\"Objective value is $(objective_value(model))\")\n"
   ]
  },
  {
   "attachments": {},
   "cell_type": "markdown",
   "id": "357edda8",
   "metadata": {},
   "source": [
    "# Export to .csv"
   ]
  },
  {
   "cell_type": "code",
   "execution_count": 7,
   "id": "9a6b32ae",
   "metadata": {},
   "outputs": [
    {
     "name": "stdout",
     "output_type": "stream",
     "text": [
      "Q_{2, 1} = 0.5815777234063592\n",
      "Q_{2, 2} = 0.21257329240817965\n",
      "Q_{5, 2} = 0.04717413067284134\n",
      "Q_{5, 3} = 0.18731708267572655\n",
      "Q_{6, 2} = 0.10912747040397108\n",
      "Q_{6, 3} = 0.019877499162836265"
     ]
    },
    {
     "name": "stdout",
     "output_type": "stream",
     "text": [
      "\n",
      "Q_{6, 5} = 0.008551020420031641\n",
      "Q_{8, 3} = 0.13149480267298214\n",
      "Q_{8, 4} = 0.062170742703785954\n"
     ]
    },
    {
     "name": "stdout",
     "output_type": "stream",
     "text": [
      "Q_{8, 5} = 0.4549194869457063\n",
      "["
     ]
    },
    {
     "name": "stdout",
     "output_type": "stream",
     "text": [
      "0.0 "
     ]
    },
    {
     "name": "stdout",
     "output_type": "stream",
     "text": [
      "0.0 0.0 0.0 "
     ]
    },
    {
     "name": "stdout",
     "output_type": "stream",
     "text": [
      "0.0; 0.5815777234063592 0.21257329240817965 "
     ]
    },
    {
     "name": "stdout",
     "output_type": "stream",
     "text": [
      "0.0 0.0 0.0; 0.0 0.0 0.0"
     ]
    },
    {
     "name": "stdout",
     "output_type": "stream",
     "text": [
      " 0.0 0.0; 0.0 0.0 0.0 0.0 0.0; 0.0 0.04717413067284134 "
     ]
    },
    {
     "name": "stdout",
     "output_type": "stream",
     "text": [
      "0.18731708267572655 0.0 0.0; 0.0 0.10912747040397108 0.019877499162836265 0.0 0.008551020420031641; 0.0 0.0 0.0 0.0 0.0; 0.0 0.0 0.13149480267298214 0.062170742703785954 0.4549194869457063; 0.0 0.0 0.0 0.0 0.0; 0.0 0.0 0.0 0.0 0.0]"
     ]
    },
    {
     "name": "stdout",
     "output_type": "stream",
     "text": [
      "\n"
     ]
    }
   ],
   "source": [
    "Q_values_HiGHS_simplex = zeros((n_assets, n_accounts))\n",
    "\n",
    "\n",
    "for i in 1:n_assets\n",
    "    for j in 1:n_accounts\n",
    "        Q_values_HiGHS_simplex[i,j] = value(Q[i,j])\n",
    "        if value(Q[i,j]) != 0 \n",
    "            println(\"Q_{$(i), $(j)} = $(value(Q[i,j]))\")\n",
    "        end\n",
    "    end\n",
    "end\n",
    "\n",
    "println(Q_values_HiGHS_simplex)\n",
    "#store all Values to an array\n",
    "\n",
    "\n",
    "# Uncomment line below to save to csv files\n",
    "\n",
    "#writedlm(\"Q_values_HiGHS_simplex.csv\", Q_values_HiGHS_simplex, ',')"
   ]
  }
 ],
 "metadata": {
  "kernelspec": {
   "display_name": "Julia 1.8.1",
   "language": "julia",
   "name": "julia-1.8"
  },
  "language_info": {
   "file_extension": ".jl",
   "mimetype": "application/julia",
   "name": "julia",
   "version": "1.8.1"
  }
 },
 "nbformat": 4,
 "nbformat_minor": 5
}
