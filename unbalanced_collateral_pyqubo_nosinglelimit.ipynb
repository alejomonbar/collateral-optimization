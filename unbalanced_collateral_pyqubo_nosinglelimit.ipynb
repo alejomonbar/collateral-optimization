{
 "cells": [
  {
   "cell_type": "code",
   "execution_count": 2,
   "id": "d091ce51-4213-4549-a26b-f9162f0078a5",
   "metadata": {},
   "outputs": [],
   "source": [
    "import numpy as np\n",
    "from pyqubo import Binary\n",
    "import pyqubo\n",
    "import neal\n",
    "import matplotlib.pyplot as plt \n",
    "from sympy import *\n",
    "from datetime import datetime\n",
    "import pandas as pd"
   ]
  },
  {
   "attachments": {},
   "cell_type": "markdown",
   "id": "ca2b79b1",
   "metadata": {},
   "source": [
    "## Input Data "
   ]
  },
  {
   "cell_type": "code",
   "execution_count": 3,
   "id": "b679805f-42d0-4baf-ad45-a55c135123af",
   "metadata": {},
   "outputs": [],
   "source": [
    "# Input data\n",
    "\n",
    "#Assets\n",
    "asset_quantity = pd.read_csv(\"data/sample_asset_quantity.csv\", header=None)[0].to_numpy()\n",
    "asset_value = pd.read_csv(\"data/sample_asset_value.csv\", header=None)[0].to_numpy()\n",
    "asset_tiers = pd.read_csv(\"data/sample_asset_tiers.csv\", header=None)[0].to_numpy()\n",
    "\n",
    "n_assets = len(asset_quantity)\n",
    "\n",
    "\n",
    "#Accounts \n",
    "account_exposure = pd.read_csv(\"data/sample_account_exposure.csv\", header=None)[0].to_numpy()\n",
    "account_duration = pd.read_csv(\"data/sample_account_duration.csv\", header=None)[0].to_numpy()\n",
    "\n",
    "n_accounts = len(account_exposure)\n",
    "#single limits\n",
    "\n",
    "\n",
    "#single_limits = pd.read_csv(\"data/sample_single_limits.csv\", header=None).to_numpy() #this is the one where assets-account combos that werent in the excel sheet were set to 0\n",
    "\n",
    "#haircuts \n",
    "haircuts = pd.read_csv(\"data/sample_haircuts.csv\", header=None).to_numpy()/100\n",
    "\n",
    "\n",
    "#Updated Tier list \n",
    "\n",
    "cost_factor_matrix = np.zeros(shape=(n_assets, n_accounts))\n",
    "\n",
    "for i in range(n_assets):\n",
    "    for j in range(n_accounts):\n",
    "        cost_factor_matrix[i,j] = abs(account_duration[j] - asset_tiers[i])\n"
   ]
  },
  {
   "attachments": {},
   "cell_type": "markdown",
   "id": "b9edd09d",
   "metadata": {},
   "source": [
    "# Penalty Terms\n"
   ]
  },
  {
   "cell_type": "code",
   "execution_count": 118,
   "id": "linear-howard",
   "metadata": {},
   "outputs": [],
   "source": [
    "# Penalty Terms\n",
    "lambda_consistency1, lambda_consistency2 = 1, 1\n",
    "lambda_exposure1, lambda_exposure2 =1, 1e2\n",
    "lambda_cost_fn = 1e8\n",
    "# lambda_single_lim1, lambda_single_lim2 = 1e3, 1e3"
   ]
  },
  {
   "attachments": {},
   "cell_type": "markdown",
   "id": "d7d2b297",
   "metadata": {},
   "source": [
    "# Constructing the QUBO"
   ]
  },
  {
   "cell_type": "code",
   "execution_count": 119,
   "id": "e3398be9",
   "metadata": {},
   "outputs": [],
   "source": [
    "binary_variables = []\n",
    "n_binary = 7\n",
    "max_binary_value = 2**n_binary - 1\n",
    "\n",
    "\n",
    "for i in range(n_assets):\n",
    "    for j in range(n_accounts):\n",
    "        for k in range(n_binary):\n",
    "            globals()[\"x\" + str(i + 1) + str(j + 1) + str(k)] = Binary(\"x\" + str(i + 1) + str(j + 1) + str(k))\n",
    "            binary_variables.append(globals()[\"x\" + str(i + 1) + str(j + 1) + str(k)])"
   ]
  },
  {
   "cell_type": "code",
   "execution_count": 120,
   "id": "bacterial-seafood",
   "metadata": {},
   "outputs": [],
   "source": [
    "\n",
    "cost_function = 0\n",
    "\n",
    "for i in range(n_assets):\n",
    "    for j in range(n_accounts):\n",
    "        aux_term = 0\n",
    "        coeff = (cost_factor_matrix[i][j])/ (max_binary_value)\n",
    "        for k in range(n_binary):\n",
    "            aux_term += (2 ** (k % n_binary)) * globals()[\"x\" + str(i + 1) + str(j + 1) + str(k)] \n",
    "        cost_function += lambda_cost_fn*coeff*aux_term\n",
    "        "
   ]
  },
  {
   "cell_type": "code",
   "execution_count": 121,
   "id": "seasonal-subscriber",
   "metadata": {},
   "outputs": [],
   "source": [
    "con_constraint = 0\n",
    "\n",
    "for i in range(n_assets):\n",
    "    aux_term1 = 0\n",
    "    aux_term2 = 0\n",
    "    for j in range(n_accounts):\n",
    "        for k in range(n_binary):\n",
    "            aux_term1 += (2 ** (k % n_binary)) * globals()[\"x\" + str(i + 1) + str(j + 1) + str(k)]\n",
    "    aux_term2 = (aux_term1/(max_binary_value)) - 1\n",
    "    con_constraint += (lambda_consistency1 * aux_term2) + (lambda_consistency2 * (aux_term2**2))\n"
   ]
  },
  {
   "cell_type": "code",
   "execution_count": 122,
   "id": "supposed-edinburgh",
   "metadata": {},
   "outputs": [],
   "source": [
    "# exposure req\n",
    "# exposure_requirements = 0\n",
    "exposure_term1 = 0\n",
    "exposure_term2 = 0\n",
    "for j in range(n_accounts):\n",
    "    aux_term2 = 0\n",
    "    aux_term3 = 0\n",
    "    for i in range(n_assets):\n",
    "        aux_term1 = 0\n",
    "        for k in range(n_binary):\n",
    "            aux_term1 += (2 ** (k % n_binary)) * globals()[\"x\" + str(i + 1) + str(j + 1) + str(k)]\n",
    "        aux_term2 += (aux_term1/max_binary_value) * asset_quantity[i] * asset_value[i] * haircuts[i][j]\n",
    "    aux_term3 += aux_term2 - account_exposure[j]\n",
    "    exposure_term1 += -lambda_exposure1 * aux_term3\n",
    "    exposure_term2 += lambda_exposure2 * (aux_term3 ** 2)\n",
    "    # exposure_requirements += (-lambda_exposure1 * aux_term3) + (lambda_exposure2 * (aux_term3 ** 2))\n",
    "\n",
    "\n",
    "exposure_requirements = (exposure_term1/np.mean(asset_quantity*asset_value)) + (exposure_term2/(np.mean(asset_quantity*asset_value)**2))"
   ]
  },
  {
   "cell_type": "code",
   "execution_count": 123,
   "id": "6101237d",
   "metadata": {},
   "outputs": [],
   "source": [
    "# # single_limits\n",
    "\n",
    "# single_limits_term = 0\n",
    "# for i in range(n_assets):\n",
    "#     for j in range(n_accounts):\n",
    "#         aux_term1 = 0\n",
    "#         aux_term2 = 0\n",
    "#         for k in range(n_binary):\n",
    "#             aux_term1 += (2 ** (k % n_binary)) * globals()[\"x\" + str(i + 1) + str(j + 1) + str(k)]\n",
    "#         aux_term2 += (aux_term1/(max_binary_value))*asset_quantity[i] - single_limits[i][j]\n",
    "#     single_limits_term += (lambda_single_lim1 * aux_term2) + (lambda_single_lim2 * (aux_term2 ** 2))\n"
   ]
  },
  {
   "cell_type": "code",
   "execution_count": 124,
   "id": "academic-thomas",
   "metadata": {},
   "outputs": [],
   "source": [
    "# Full QUBO\n",
    "\n",
    "final_equation = cost_function + con_constraint + exposure_requirements #+ single_limits_term\n",
    "\n",
    "# Compile QUBO\n",
    "model = final_equation.compile()\n",
    "# Obtain the Q matrix\n",
    "qubo, offset = model.to_qubo()"
   ]
  },
  {
   "attachments": {},
   "cell_type": "markdown",
   "id": "a635588e",
   "metadata": {},
   "source": [
    "# Run Solver"
   ]
  },
  {
   "cell_type": "code",
   "execution_count": 125,
   "id": "quality-capital",
   "metadata": {},
   "outputs": [
    {
     "name": "stdout",
     "output_type": "stream",
     "text": [
      "The minimum energy is: -1.304700337361453\n"
     ]
    }
   ],
   "source": [
    "start=datetime.now()\n",
    "\n",
    "# Use solver to find solution\n",
    "bqm = model.to_bqm()\n",
    "sa = neal.SimulatedAnnealingSampler()\n",
    "sampleset = sa.sample(bqm, num_reads=100, num_sweeps = 1000)\n",
    "decoded_samples = model.decode_sampleset(sampleset)\n",
    "\n",
    "# Get results\n",
    "best_sample = min(decoded_samples, key=lambda x: x.energy)\n",
    "results = best_sample.sample\n",
    "print(f\"The minimum energy is: {best_sample.energy}\")"
   ]
  },
  {
   "attachments": {},
   "cell_type": "markdown",
   "id": "c82329a3",
   "metadata": {},
   "source": [
    "# Verify Results"
   ]
  },
  {
   "cell_type": "code",
   "execution_count": 126,
   "id": "negative-sword",
   "metadata": {},
   "outputs": [
    {
     "name": "stdout",
     "output_type": "stream",
     "text": [
      "=====Each Individual Allocation Percentage and Verification of Single Limits=====\n",
      "Assign 25.20% of asset 1 to account 1\n",
      "Assign 19.69% of asset 1 to account 2\n",
      "Assign 0.00% of asset 1 to account 3\n",
      "Assign 0.00% of asset 1 to account 4\n",
      "Assign 0.00% of asset 1 to account 5\n",
      "Assign 5.51% of asset 2 to account 1\n",
      "Assign 5.51% of asset 2 to account 2\n",
      "Assign 0.79% of asset 2 to account 3\n",
      "Assign 0.00% of asset 2 to account 4\n",
      "Assign 7.09% of asset 2 to account 5\n",
      "Assign 0.00% of asset 3 to account 1\n",
      "Assign 50.39% of asset 3 to account 2\n",
      "Assign 0.00% of asset 3 to account 3\n",
      "Assign 0.00% of asset 3 to account 4\n",
      "Assign 0.00% of asset 3 to account 5\n",
      "Assign 35.43% of asset 4 to account 1\n",
      "Assign 10.24% of asset 4 to account 2\n",
      "Assign 0.00% of asset 4 to account 3\n",
      "Assign 0.00% of asset 4 to account 4\n",
      "Assign 0.00% of asset 4 to account 5\n",
      "Assign 5.51% of asset 5 to account 1\n",
      "Assign 11.81% of asset 5 to account 2\n",
      "Assign 5.51% of asset 5 to account 3\n",
      "Assign 0.79% of asset 5 to account 4\n",
      "Assign 1.57% of asset 5 to account 5\n",
      "Assign 14.96% of asset 6 to account 1\n",
      "Assign 4.72% of asset 6 to account 2\n",
      "Assign 5.51% of asset 6 to account 3\n",
      "Assign 0.00% of asset 6 to account 4\n",
      "Assign 4.72% of asset 6 to account 5\n",
      "Assign 0.00% of asset 7 to account 1\n",
      "Assign 0.00% of asset 7 to account 2\n",
      "Assign 18.90% of asset 7 to account 3\n",
      "Assign 1.57% of asset 7 to account 4\n",
      "Assign 20.47% of asset 7 to account 5\n",
      "Assign 0.00% of asset 8 to account 1\n",
      "Assign 0.00% of asset 8 to account 2\n",
      "Assign 23.62% of asset 8 to account 3\n",
      "Assign 2.36% of asset 8 to account 4\n",
      "Assign 17.32% of asset 8 to account 5\n",
      "Assign 0.00% of asset 9 to account 1\n",
      "Assign 0.00% of asset 9 to account 2\n",
      "Assign 16.54% of asset 9 to account 3\n",
      "Assign 11.02% of asset 9 to account 4\n",
      "Assign 13.39% of asset 9 to account 5\n",
      "Assign 0.00% of asset 10 to account 1\n",
      "Assign 0.00% of asset 10 to account 2\n",
      "Assign 11.02% of asset 10 to account 3\n",
      "Assign 11.02% of asset 10 to account 4\n",
      "Assign 18.11% of asset 10 to account 5\n"
     ]
    }
   ],
   "source": [
    "\n",
    "\n",
    "exposure_solution = np.zeros(shape = (n_accounts))\n",
    "allocation_solution = np.zeros(shape = (n_assets))\n",
    "\n",
    "print(\"=====Each Individual Allocation Percentage and Verification of Single Limits=====\")\n",
    "\n",
    "for i in range(n_assets):\n",
    "    asset = 0\n",
    "    for j in range(n_accounts):\n",
    "        decimal = 0\n",
    "        for k in range(n_binary):\n",
    "            decimal +=(2**k)*results.get(\"x\" + str(i + 1) + str(j + 1) + str(k))\n",
    "        asset += decimal*(100/max_binary_value)\n",
    "        print(f\"Assign {decimal*(100/max_binary_value):0.2f}% of asset {i+1} to account {j+1}\")\n",
    "        # if (decimal/max_binary_value)*asset_quantity[i] > single_limits[i][j]:\n",
    "            # print(f\"Single limit constraint satisfied: {((decimal/max_binary_value)*asset_quantity[i]) <= single_limits[i][j]}\")\n",
    "            # print(f\"Quantity assigned = {(decimal/max_binary_value)*asset_quantity[i]:0.2f}, Single limit is {single_limits[i][j]}\")\n",
    "        exposure_solution[j] += (decimal /max_binary_value) * asset_value[i] * asset_quantity[i]*haircuts[i][j]\n",
    "    allocation_solution[i] = asset\n"
   ]
  },
  {
   "cell_type": "code",
   "execution_count": 127,
   "id": "designed-century",
   "metadata": {},
   "outputs": [
    {
     "name": "stdout",
     "output_type": "stream",
     "text": [
      "====Validation for Consistency====\n",
      "44.88% of asset 1 posted\n",
      "18.90% of asset 2 posted\n",
      "50.39% of asset 3 posted\n",
      "45.67% of asset 4 posted\n",
      "25.20% of asset 5 posted\n",
      "29.92% of asset 6 posted\n",
      "40.94% of asset 7 posted\n",
      "43.31% of asset 8 posted\n",
      "40.94% of asset 9 posted\n",
      "40.16% of asset 10 posted\n"
     ]
    }
   ],
   "source": [
    "print(\"====Validation for Consistency====\")\n",
    "for i in range(n_assets):\n",
    "    print(f\"{allocation_solution[i]:0.2f}% of asset {i+1} posted\")"
   ]
  },
  {
   "cell_type": "code",
   "execution_count": 128,
   "id": "fallen-taylor",
   "metadata": {},
   "outputs": [
    {
     "name": "stdout",
     "output_type": "stream",
     "text": [
      "=====Validation for Exposure======\n",
      "$828,937.2878133476 of collateral posted, $824000.0 required\n",
      "0.60%\n",
      "$671,310.0964198982 of collateral posted, $669292.0 required\n",
      "0.30%\n",
      "$552,129.2989622079 of collateral posted, $548600.0 required\n",
      "0.64%\n",
      "$69,111.1274428666 of collateral posted, $64844.52 required\n",
      "6.58%\n",
      "$475,846.7837093987 of collateral posted, $472000.0 required\n",
      "0.81%\n"
     ]
    }
   ],
   "source": [
    "print(\"=====Validation for Exposure======\")\n",
    "for i in range(n_accounts):\n",
    "    print(f\"${exposure_solution[i]:,} of collateral posted, ${account_exposure[i]} required\")\n",
    "    print(f\"{(exposure_solution[i]/account_exposure[i] - 1) *100.:0.2f}%\")"
   ]
  },
  {
   "cell_type": "code",
   "execution_count": 129,
   "id": "8efbaff7-da0c-43b7-aa1b-6f0e19d303d8",
   "metadata": {},
   "outputs": [
    {
     "name": "stdout",
     "output_type": "stream",
     "text": [
      "0:00:08.843279\n"
     ]
    }
   ],
   "source": [
    "print(datetime.now()-start)"
   ]
  },
  {
   "attachments": {},
   "cell_type": "markdown",
   "id": "f2d6bb04",
   "metadata": {},
   "source": [
    "# Export to .csv"
   ]
  },
  {
   "cell_type": "code",
   "execution_count": 130,
   "id": "unavailable-christmas",
   "metadata": {},
   "outputs": [
    {
     "name": "stdout",
     "output_type": "stream",
     "text": [
      "Objective value: 0.973228346456693\n"
     ]
    }
   ],
   "source": [
    "# Saving to an array\n",
    "Q_value_unbalanced_py_qubo = np.zeros(shape=(n_assets,n_accounts))\n",
    "\n",
    "for i in range(n_assets):\n",
    "    asset = 0\n",
    "    for j in range(n_accounts):\n",
    "        bit = ''\n",
    "        decimal = 0\n",
    "        for k in range(n_binary):\n",
    "            bit += str(results.get(\"x\" + str(i + 1) + str(j + 1) + str(k)))\n",
    "            decimal +=(2**k)*results.get(\"x\" + str(i + 1) + str(j + 1) + str(k))\n",
    "        asset += decimal*(100/max_binary_value)\n",
    "        Q_value_unbalanced_py_qubo[i][j] = decimal/max_binary_value\n",
    "\n",
    "pprint(f\"Objective value: {sum(sum(Q_value_unbalanced_py_qubo*cost_factor_matrix))}\")"
   ]
  },
  {
   "cell_type": "code",
   "execution_count": null,
   "id": "91cf228f",
   "metadata": {},
   "outputs": [],
   "source": [
    "\"\"\"Uncomment the last line when you are happy with the results\"\"\"\n",
    "\n",
    "#pd.DataFrame(Q_value_unbalanced_py_qubo).to_csv(\"Q_value_unbalanced_py_qubo_no_single_lim1.csv\", header=None, index=None)\n"
   ]
  }
 ],
 "metadata": {
  "kernelspec": {
   "display_name": "Python 3 (ipykernel)",
   "language": "python",
   "name": "python3"
  },
  "language_info": {
   "codemirror_mode": {
    "name": "ipython",
    "version": 3
   },
   "file_extension": ".py",
   "mimetype": "text/x-python",
   "name": "python",
   "nbconvert_exporter": "python",
   "pygments_lexer": "ipython3",
   "version": "3.11.2"
  }
 },
 "nbformat": 4,
 "nbformat_minor": 5
}
